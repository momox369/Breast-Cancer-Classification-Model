{
  "cells": [
    {
      "cell_type": "markdown",
      "metadata": {
        "id": "Jl9soIMu7OMn"
      },
      "source": [
        "Breast Cancer Prediction Notebook"
      ]
    },
    {
      "cell_type": "markdown",
      "source": [
        "# Import Data\n"
      ],
      "metadata": {
        "id": "8JWLXRi_hLj-"
      }
    },
    {
      "cell_type": "markdown",
      "metadata": {
        "id": "W_Pxo_oI7UK4"
      },
      "source": [
        " Mount Google Drive"
      ]
    },
    {
      "cell_type": "code",
      "execution_count": 372,
      "metadata": {
        "colab": {
          "base_uri": "https://localhost:8080/"
        },
        "id": "nej27tUM7OMs",
        "outputId": "4121f8bf-aa8e-41ae-f670-dc03f5965b37"
      },
      "outputs": [
        {
          "output_type": "stream",
          "name": "stdout",
          "text": [
            "Drive already mounted at /content/drive; to attempt to forcibly remount, call drive.mount(\"/content/drive\", force_remount=True).\n"
          ]
        }
      ],
      "source": [
        "from google.colab import drive\n",
        "drive.mount('/content/drive')"
      ]
    },
    {
      "cell_type": "code",
      "execution_count": 373,
      "metadata": {
        "id": "cWWezqe77YAE"
      },
      "outputs": [],
      "source": [
        "data_path = \"/content/drive/MyDrive/261_Data/data.csv\""
      ]
    },
    {
      "cell_type": "markdown",
      "metadata": {
        "id": "1pc-G2rZ7oxs"
      },
      "source": [
        "**Import Libraries**"
      ]
    },
    {
      "cell_type": "code",
      "execution_count": 374,
      "metadata": {
        "id": "yrL_2sqB7dwr"
      },
      "outputs": [],
      "source": [
        "%matplotlib inline\n",
        "import numpy as np\n",
        "import pandas as pd\n",
        "import matplotlib.pyplot as plt\n",
        "import seaborn as sns\n",
        "import sklearn"
      ]
    },
    {
      "cell_type": "markdown",
      "metadata": {
        "id": "AHKLd6Mi7tPP"
      },
      "source": [
        "**Construct dataframe**"
      ]
    },
    {
      "cell_type": "code",
      "execution_count": 375,
      "metadata": {
        "id": "suYsq5ei7syW"
      },
      "outputs": [],
      "source": [
        "data = pd.read_csv(data_path);\n",
        "\n",
        "df = pd.DataFrame(data)"
      ]
    },
    {
      "cell_type": "markdown",
      "metadata": {
        "id": "RIcyKcO069o6"
      },
      "source": [
        "**Drop Duplicates**"
      ]
    },
    {
      "cell_type": "code",
      "execution_count": 376,
      "metadata": {
        "id": "S1F7Z2TP69Zi"
      },
      "outputs": [],
      "source": [
        "df = df.drop_duplicates()"
      ]
    },
    {
      "cell_type": "markdown",
      "metadata": {
        "id": "B17Nawzz9YBJ"
      },
      "source": [
        "# **Fill Na values**"
      ]
    },
    {
      "cell_type": "markdown",
      "source": [
        "Fill Null Values with the mean of each feature"
      ],
      "metadata": {
        "id": "lA-eVPvZRpCs"
      }
    },
    {
      "cell_type": "code",
      "execution_count": 377,
      "metadata": {
        "colab": {
          "base_uri": "https://localhost:8080/"
        },
        "id": "4CnLbzu19OyN",
        "outputId": "ba42a71e-c2bf-420a-c4af-d4096b7fa4b0"
      },
      "outputs": [
        {
          "output_type": "stream",
          "name": "stdout",
          "text": [
            "Remaining Null Values =  0\n"
          ]
        }
      ],
      "source": [
        "import warnings\n",
        "\n",
        "# Assuming df is your original DataFrame\n",
        "df1 = df.copy()\n",
        "\n",
        "warnings.filterwarnings('ignore')\n",
        "\n",
        "# Calculate mean only for numeric columns\n",
        "numeric_means = df1.select_dtypes(include=[np.number]).mean()\n",
        "\n",
        "# Fill NaN values only in numeric columns with their respective mean\n",
        "df1.fillna(numeric_means, inplace=True)\n",
        "\n",
        "# For non-numeric columns, you might want to fill NaNs with a specific value or use another method\n",
        "# Example: df2['non_numeric_column'].fillna('default_value', inplace=True)\n",
        "\n",
        "df1.dropna(inplace=True)\n",
        "\n",
        "# Count the number of NaN values in each column to verify\n",
        "print(f'Remaining Null Values =  {df1.isnull().sum().sum()}')"
      ]
    },
    {
      "cell_type": "markdown",
      "metadata": {
        "id": "YnFuGsRv7o3b"
      },
      "source": [
        "# **Re-Labeling non-numerical values**\n",
        "\n"
      ]
    },
    {
      "cell_type": "markdown",
      "metadata": {
        "id": "5eAG_BhP7wig"
      },
      "source": [
        "Remove irrelevant features"
      ]
    },
    {
      "cell_type": "code",
      "execution_count": 378,
      "metadata": {
        "id": "ApVbQVGWbul2"
      },
      "outputs": [],
      "source": [
        "df1 = df1.drop(columns=['patient_id', 'cohort', 'her2_status', 'er_status'])"
      ]
    },
    {
      "cell_type": "markdown",
      "metadata": {
        "id": "L-NKsDHp71ll"
      },
      "source": [
        "Label Categorical columns in-place."
      ]
    },
    {
      "cell_type": "code",
      "execution_count": 379,
      "metadata": {
        "id": "v-ExnQLHEaBZ"
      },
      "outputs": [],
      "source": [
        "from sklearn.preprocessing import LabelEncoder\n",
        "\n",
        "# Convert set to list\n",
        "categorical_columns = [\"cancer_type\", \"cellularity\", \"pam50_+_claudin-low_subtype\", \"er_status_measured_by_ihc\", \"her2_status_measured_by_snp6\", \"inferred_menopausal_state\", \"primary_tumor_laterality\", \"pr_status\", \"3-gene_classifier_subtype\", \"death_from_cancer\"]\n",
        "\n",
        "# Initialize LabelEncoder\n",
        "label_encoder = LabelEncoder()\n",
        "\n",
        "# Apply label encoding to each categorical column\n",
        "for col in categorical_columns:\n",
        "    df1[col] = label_encoder.fit_transform(df1[col])\n"
      ]
    },
    {
      "cell_type": "markdown",
      "metadata": {
        "id": "-U_0SOsY76n1"
      },
      "source": [
        "Handle non-categorical columns"
      ]
    },
    {
      "cell_type": "code",
      "execution_count": 380,
      "metadata": {
        "id": "1k53FIVsxZKv"
      },
      "outputs": [],
      "source": [
        "# Convert all non-numeric columns to numeric using one-hot encoding\n",
        "df1 = pd.get_dummies(df1)"
      ]
    },
    {
      "cell_type": "code",
      "source": [
        "df1.shape"
      ],
      "metadata": {
        "colab": {
          "base_uri": "https://localhost:8080/"
        },
        "id": "zYl0D5M6EAMd",
        "outputId": "09e1d227-6be3-4fd8-c201-3748a1e1a5b4"
      },
      "execution_count": 381,
      "outputs": [
        {
          "output_type": "execute_result",
          "data": {
            "text/plain": [
              "(1211, 5898)"
            ]
          },
          "metadata": {},
          "execution_count": 381
        }
      ]
    },
    {
      "cell_type": "markdown",
      "source": [
        "# Remove Anomalies and Outliers\n"
      ],
      "metadata": {
        "id": "80gIitSS6pPH"
      }
    },
    {
      "cell_type": "code",
      "execution_count": 382,
      "metadata": {
        "id": "QMAeJM3YDnxf"
      },
      "outputs": [],
      "source": [
        "# Separate features and target\n",
        "features = df1.drop('cancer_type', axis=1)\n",
        "target = df1['cancer_type']"
      ]
    },
    {
      "cell_type": "code",
      "source": [
        "from sklearn.cluster import DBSCAN\n",
        "\n",
        "eps = 30  # Distance threshold\n",
        "min_samples = 5  # Minimum number of samples to form a dense region\n",
        "dbscan = DBSCAN(eps=eps, min_samples=min_samples)\n",
        "labels = dbscan.fit_predict(features)\n",
        "\n",
        "# Mark anomalies as -1\n",
        "features = features[labels != -1]\n",
        "target = target[labels != -1]"
      ],
      "metadata": {
        "id": "c_xt48JC_0bE"
      },
      "execution_count": 383,
      "outputs": []
    },
    {
      "cell_type": "code",
      "source": [
        "features.shape"
      ],
      "metadata": {
        "colab": {
          "base_uri": "https://localhost:8080/"
        },
        "id": "hBF-NtGyKu0Y",
        "outputId": "fac52a95-03d7-4287-e33e-67734181eb4a"
      },
      "execution_count": 384,
      "outputs": [
        {
          "output_type": "execute_result",
          "data": {
            "text/plain": [
              "(890, 5897)"
            ]
          },
          "metadata": {},
          "execution_count": 384
        }
      ]
    },
    {
      "cell_type": "markdown",
      "metadata": {
        "id": "ALIWwW7c_4n8"
      },
      "source": [
        "# **Split Data**"
      ]
    },
    {
      "cell_type": "markdown",
      "source": [
        "Split the data into 80% train and 20% test.\n",
        "We are planning to do cross-validation beacuse the training dataset is small"
      ],
      "metadata": {
        "id": "ZWzz38pDyd1I"
      }
    },
    {
      "cell_type": "code",
      "execution_count": 385,
      "metadata": {
        "colab": {
          "base_uri": "https://localhost:8080/"
        },
        "id": "YHTrgAd1_7QV",
        "outputId": "117cf75e-b454-41f7-e7bd-d29da32650a1"
      },
      "outputs": [
        {
          "output_type": "stream",
          "name": "stdout",
          "text": [
            "x_train shape: (712, 5897)\n",
            "y_train shape: (712,)\n",
            "x_test shape: (178, 5897)\n",
            "y_test shape: (178,)\n"
          ]
        }
      ],
      "source": [
        "from sklearn.model_selection import train_test_split\n",
        "\n",
        "# Split data into train and test sets\n",
        "x_train, x_test, y_train, y_test = train_test_split(features, target,train_size=0.8, test_size=0.2, random_state=42)\n",
        "\n",
        "# Further split the train data into train and validation sets\n",
        "# x_test, x_val, y_test, y_val = train_test_split(x_test, y_test, test_size=0.5, random_state=42)\n",
        "\n",
        "# Print the shapes of the resulting datasets\n",
        "print('x_train shape:', x_train.shape)\n",
        "print('y_train shape:', y_train.shape)\n",
        "# print('x_val shape:', x_val.shape)\n",
        "# print('y_val shape:', y_val.shape)\n",
        "print('x_test shape:', x_test.shape)\n",
        "print('y_test shape:', y_test.shape)\n"
      ]
    },
    {
      "cell_type": "markdown",
      "metadata": {
        "id": "gvRhK875ACZb"
      },
      "source": [
        "# **Scaling Data**"
      ]
    },
    {
      "cell_type": "markdown",
      "source": [
        "Normalize Data by scaling it using MinMaxScaler"
      ],
      "metadata": {
        "id": "CiOQZMZdyw8L"
      }
    },
    {
      "cell_type": "code",
      "execution_count": 386,
      "metadata": {
        "id": "LFmw1eMHQ1KZ"
      },
      "outputs": [],
      "source": [
        "\n",
        "from sklearn.preprocessing import MinMaxScaler\n",
        "\n",
        "# Initialize the MinMaxScaler object\n",
        "scaler = MinMaxScaler()\n",
        "\n",
        "# Fit the scaler to the training data\n",
        "scaler.fit(x_train)\n",
        "\n",
        "# Transform the features\n",
        "x_train = scaler.transform(x_train)\n",
        "x_test = scaler.transform(x_test)\n"
      ]
    },
    {
      "cell_type": "markdown",
      "metadata": {
        "id": "okj4NRdGiwJk"
      },
      "source": [
        "# **Step 3: Re-sampling the data using SMOTE**"
      ]
    },
    {
      "cell_type": "code",
      "execution_count": 387,
      "metadata": {
        "id": "KeNoGINUihON"
      },
      "outputs": [],
      "source": [
        "from sklearn.datasets import make_classification\n",
        "import seaborn as sns\n",
        "import matplotlib.pyplot as plt\n",
        "import numpy as np"
      ]
    },
    {
      "cell_type": "markdown",
      "source": [
        "Over-sample data to balance cancer types"
      ],
      "metadata": {
        "id": "GM0A3Jrry4PZ"
      }
    },
    {
      "cell_type": "code",
      "execution_count": 388,
      "metadata": {
        "id": "XlVXcTdTkNZe"
      },
      "outputs": [],
      "source": [
        "from imblearn.over_sampling import SMOTE\n",
        "\n",
        "x_train, y_train = SMOTE(random_state=42).fit_resample(x_train, y_train)"
      ]
    },
    {
      "cell_type": "code",
      "execution_count": 389,
      "metadata": {
        "colab": {
          "base_uri": "https://localhost:8080/",
          "height": 607
        },
        "id": "DASP_RuEnAIj",
        "outputId": "9829ca1a-87a8-4f47-91c0-86bcedbb974f"
      },
      "outputs": [
        {
          "output_type": "display_data",
          "data": {
            "text/plain": [
              "<Figure size 1000x600 with 1 Axes>"
            ],
            "image/png": "[encoded data removed]"
          },
          "metadata": {}
        }
      ],
      "source": [
        "#ploting the new re-sampled data\n",
        "\n",
        "cancer_counts = y_train.value_counts()\n",
        "\n",
        "plt.figure(figsize=(10, 6))\n",
        "cancer_counts.plot(kind='bar')\n",
        "plt.title('Occurences of Each Cancer Type in the Dataset')\n",
        "plt.xlabel('Cancer Type')\n",
        "plt.ylabel('Number of Instances')\n",
        "plt.xticks(rotation=45, ha=\"right\")\n",
        "plt.tight_layout()  # Adjust the layout to make room for the label\n",
        "plt.show()"
      ]
    },
    {
      "cell_type": "markdown",
      "metadata": {
        "id": "PygA0shJ93bp"
      },
      "source": [
        "# Dimensionality Reduction\n"
      ]
    },
    {
      "cell_type": "markdown",
      "source": [
        "Dimensionality Reduction is used to visualize the data"
      ],
      "metadata": {
        "id": "3sbgX8h51Cgu"
      }
    },
    {
      "cell_type": "markdown",
      "metadata": {
        "id": "7wLRlz5mFm85"
      },
      "source": [
        "On Train"
      ]
    },
    {
      "cell_type": "code",
      "execution_count": 390,
      "metadata": {
        "colab": {
          "base_uri": "https://localhost:8080/",
          "height": 718
        },
        "id": "VNvBMdBhQBzn",
        "outputId": "2bfea754-2abe-4f94-b0c2-630470051467"
      },
      "outputs": [
        {
          "output_type": "display_data",
          "data": {
            "text/plain": [
              "<Figure size 1000x800 with 1 Axes>"
            ],
            "image/png": "[encoded data removed]"
          },
          "metadata": {}
        }
      ],
      "source": [
        "import numpy as np\n",
        "import pandas as pd\n",
        "from sklearn.preprocessing import StandardScaler\n",
        "from sklearn.discriminant_analysis import LinearDiscriminantAnalysis\n",
        "import matplotlib.pyplot as plt\n",
        "\n",
        "y_train = y_train.values.ravel()\n",
        "\n",
        "# Apply LDA\n",
        "lda = LinearDiscriminantAnalysis(n_components=2)  # Reduce to 2 dimensions for easy visualization\n",
        "x_train_scaled_reduced = lda.fit_transform(x_train, y_train)\n",
        "\n",
        "# Visualization\n",
        "plt.figure(figsize=(10, 8))\n",
        "sns.scatterplot(x=x_train_scaled_reduced[:, 0], y=x_train_scaled_reduced[:, 1], hue=y_train, palette='viridis', style=y_train, s=60)\n",
        "plt.title('LDA: Projection of Cancer Types')\n",
        "plt.xlabel('LD1')\n",
        "plt.ylabel('LD2')\n",
        "plt.legend(title='Cancer Type')\n",
        "plt.grid(True)\n",
        "plt.show()\n"
      ]
    },
    {
      "cell_type": "markdown",
      "metadata": {
        "id": "4eaaFJF8GCgm"
      },
      "source": [
        "On Test"
      ]
    },
    {
      "cell_type": "code",
      "execution_count": 391,
      "metadata": {
        "colab": {
          "base_uri": "https://localhost:8080/",
          "height": 718
        },
        "id": "u_NYZ2FLGDtl",
        "outputId": "0cc40759-50b2-4435-f389-271c70b06a64"
      },
      "outputs": [
        {
          "output_type": "display_data",
          "data": {
            "text/plain": [
              "<Figure size 1000x800 with 1 Axes>"
            ],
            "image/png": "[encoded data removed]"
          },
          "metadata": {}
        }
      ],
      "source": [
        "import numpy as np\n",
        "import pandas as pd\n",
        "from sklearn.preprocessing import StandardScaler\n",
        "from sklearn.discriminant_analysis import LinearDiscriminantAnalysis\n",
        "import matplotlib.pyplot as plt\n",
        "\n",
        "y_test = y_test.values.ravel()\n",
        "\n",
        "# Apply LDA\n",
        "lda = LinearDiscriminantAnalysis(n_components=2)  # Reduce to 2 dimensions for easy visualization\n",
        "x_test_scaled_reduced = lda.fit_transform(x_test, y_test)\n",
        "\n",
        "# Visualization\n",
        "plt.figure(figsize=(10, 8))\n",
        "sns.scatterplot(x=x_test_scaled_reduced[:, 0], y=x_test_scaled_reduced[:, 1], hue=y_test, palette='viridis', style=y_test, s=60)\n",
        "plt.title('LDA: Projection of Cancer Types')\n",
        "plt.xlabel('LD1')\n",
        "plt.ylabel('LD2')\n",
        "plt.legend(title='Cancer Type')\n",
        "plt.grid(True)\n",
        "plt.show()\n"
      ]
    },
    {
      "cell_type": "markdown",
      "metadata": {
        "id": "pJJMcACMF8j_"
      },
      "source": [
        "# **Logistic Regression**"
      ]
    },
    {
      "cell_type": "markdown",
      "source": [
        "Build and Test a Logistic Regression Model"
      ],
      "metadata": {
        "id": "735z09_egDgb"
      }
    },
    {
      "cell_type": "code",
      "source": [
        "from sklearn.linear_model import LogisticRegression\n",
        "from sklearn.model_selection import cross_val_score\n",
        "\n",
        "# Create a Logistic Regression model\n",
        "lr_model = LogisticRegression(random_state=42)\n",
        "\n",
        "# Calculate cross-validation accuracy\n",
        "accuracy_scores = cross_val_score(lr_model, x_train, y_train, cv=5, scoring='accuracy')\n",
        "\n",
        "print(\"Cross-validation accuracy:\", accuracy_scores)\n"
      ],
      "metadata": {
        "colab": {
          "base_uri": "https://localhost:8080/"
        },
        "id": "obKTXFN0ivIU",
        "outputId": "4c924eba-a44c-4e94-b302-e423505185f5"
      },
      "execution_count": 392,
      "outputs": [
        {
          "output_type": "stream",
          "name": "stdout",
          "text": [
            "Cross-validation accuracy: [0.93905192 0.95936795 0.96832579 0.96606335 0.96832579]\n"
          ]
        }
      ]
    },
    {
      "cell_type": "markdown",
      "source": [
        "Plot Logistic Regression Learning curve"
      ],
      "metadata": {
        "id": "Kr8KQPIF1Rbs"
      }
    },
    {
      "cell_type": "code",
      "source": [
        "import matplotlib.pyplot as plt\n",
        "import numpy as np\n",
        "from sklearn.model_selection import learning_curve\n",
        "\n",
        "# Define training sizes\n",
        "train_sizes = np.linspace(0.05, 1, 12)\n",
        "\n",
        "# Calculate learning curves for accuracy and F1 score\n",
        "N_train, train_scores, val_scores = learning_curve(LogisticRegression(), x_train, y_train, cv=5, scoring='accuracy', train_sizes=train_sizes)\n",
        "\n",
        "# Plot the learning curves\n",
        "plt.figure(figsize=(10, 6))\n",
        "plt.plot(N_train, train_scores.mean(axis=1), label='Train Accuracy')\n",
        "plt.plot(N_train, val_scores.mean(axis=1), label='Validation Accuracy')\n",
        "plt.plot(N_train, train_scores.mean(axis=1) - val_scores.mean(axis=1), label='Gap')\n",
        "plt.xlabel('Training Data Size')\n",
        "plt.ylabel('Accuracy')\n",
        "plt.legend()\n",
        "\n",
        "plt.show()\n"
      ],
      "metadata": {
        "id": "EkkCGCQDv0Xe",
        "colab": {
          "base_uri": "https://localhost:8080/",
          "height": 542
        },
        "outputId": "97a87593-f192-4da3-b0ff-c54e0f68372c"
      },
      "execution_count": 393,
      "outputs": [
        {
          "output_type": "display_data",
          "data": {
            "text/plain": [
              "<Figure size 1000x600 with 1 Axes>"
            ],
            "image/png": "[encoded data removed]"
          },
          "metadata": {}
        }
      ]
    },
    {
      "cell_type": "markdown",
      "source": [
        "The Model is overfitting, since the training validation is constant at 100%.\n",
        "\n",
        "Therefore, we decided to apply feature selection using PCA + Hyper-parameter tuning the Logistic Regression Model."
      ],
      "metadata": {
        "id": "C5gRiesFflP9"
      }
    },
    {
      "cell_type": "code",
      "source": [
        "import numpy as np\n",
        "from sklearn import datasets\n",
        "from sklearn.model_selection import train_test_split, GridSearchCV\n",
        "from sklearn.decomposition import PCA\n",
        "from sklearn.linear_model import LogisticRegression\n",
        "from sklearn.pipeline import Pipeline\n",
        "from sklearn.metrics import classification_report, accuracy_score, confusion_matrix\n",
        "\n",
        "\n",
        "pca_log_reg_pipeline = Pipeline([\n",
        "    ('pca', PCA()),\n",
        "    ('log_reg', LogisticRegression(random_state=42))\n",
        "])\n",
        "\n",
        "# Define the parameter grid for GridSearchCV\n",
        "pca_log_reg_param_grid = {\n",
        "    'pca__n_components': [400],\n",
        "    'log_reg__C': [0.1,1,10],  # Inverse of regularization strength\n",
        "    'log_reg__penalty': ['l1', 'l2'],  # Types of penalties (l1 is not supported with all solvers)\n",
        "    'log_reg__solver': ['liblinear', 'saga']  # Solvers that support penalty='l1'\n",
        "}\n",
        "\n",
        "# Create the GridSearchCV object\n",
        "pca_log_reg_grid_search = GridSearchCV(pca_log_reg_pipeline, pca_log_reg_param_grid, cv=5, scoring='accuracy', verbose=1)\n",
        "\n",
        "# Fit the model\n",
        "pca_log_reg_grid_search.fit(x_train, y_train)\n",
        "\n",
        "# Best model\n",
        "print(\"Best parameters:\", pca_log_reg_grid_search.best_params_)\n",
        "print(\"Best cross-validation accuracy: {:.2f}\".format(pca_log_reg_grid_search.best_score_))\n",
        "\n",
        "# Test the model\n",
        "y_pred = pca_log_reg_grid_search.predict(x_test)\n",
        "pca_log_reg_accuracy = accuracy_score(y_test, y_pred)\n",
        "print(\"Test set accuracy: {:.2f}\".format(pca_log_reg_accuracy))\n",
        "print(\"\\nClassification Report:\\n\", classification_report(y_test, y_pred))\n",
        "\n",
        "# Print the confusion matrix\n",
        "print(\"\\nConfusion Matrix:\")\n",
        "print(confusion_matrix(y_test, y_pred))"
      ],
      "metadata": {
        "colab": {
          "base_uri": "https://localhost:8080/"
        },
        "id": "EQh4yE8SO4LE",
        "outputId": "ffd7fd86-3d43-4357-eec6-b4742033c3f6"
      },
      "execution_count": 394,
      "outputs": [
        {
          "output_type": "stream",
          "name": "stdout",
          "text": [
            "Fitting 5 folds for each of 12 candidates, totalling 60 fits\n",
            "Best parameters: {'log_reg__C': 10, 'log_reg__penalty': 'l2', 'log_reg__solver': 'saga', 'pca__n_components': 400}\n",
            "Best cross-validation accuracy: 0.96\n",
            "Test set accuracy: 0.75\n",
            "\n",
            "Classification Report:\n",
            "               precision    recall  f1-score   support\n",
            "\n",
            "           0       0.83      0.91      0.87       136\n",
            "           1       0.39      0.54      0.45        13\n",
            "           2       0.00      0.00      0.00         2\n",
            "           3       0.18      0.07      0.11        27\n",
            "\n",
            "    accuracy                           0.75       178\n",
            "   macro avg       0.35      0.38      0.36       178\n",
            "weighted avg       0.69      0.75      0.71       178\n",
            "\n",
            "\n",
            "Confusion Matrix:\n",
            "[[124   4   0   8]\n",
            " [  5   7   0   1]\n",
            " [  2   0   0   0]\n",
            " [ 18   7   0   2]]\n"
          ]
        }
      ]
    },
    {
      "cell_type": "markdown",
      "source": [
        "# **Random Forest**"
      ],
      "metadata": {
        "id": "T9KIFSv0ioGj"
      }
    },
    {
      "cell_type": "markdown",
      "source": [
        "Build and Test Random Forest Model, because it offers ensemble learning."
      ],
      "metadata": {
        "id": "yqHVfROzxtNd"
      }
    },
    {
      "cell_type": "code",
      "source": [
        "from sklearn.model_selection import cross_validate\n",
        "from sklearn.ensemble import RandomForestClassifier\n",
        "\n",
        "# Create a Random Forest Classifier\n",
        "rf_model = RandomForestClassifier(random_state=42)\n",
        "\n",
        "# Perform cross-validation with 5 folds\n",
        "cv_results = cross_validate(rf_model, x_train, y_train, cv=5, scoring=['accuracy', 'f1_macro'])\n",
        "\n",
        "# Print the average validation accuracy and f1 measure\n",
        "print(\"Average validation accuracy:\", cv_results['test_accuracy'].mean())\n",
        "print(\"Average validation f1 measure:\", cv_results['test_f1_macro'].mean())\n"
      ],
      "metadata": {
        "id": "h-QLU-3ZptXK",
        "colab": {
          "base_uri": "https://localhost:8080/"
        },
        "outputId": "a02cb25f-7e0b-46ef-e510-a4b39d5e7982"
      },
      "execution_count": 395,
      "outputs": [
        {
          "output_type": "stream",
          "name": "stdout",
          "text": [
            "Average validation accuracy: 0.9774082510239728\n",
            "Average validation f1 measure: 0.9774739275362212\n"
          ]
        }
      ]
    },
    {
      "cell_type": "markdown",
      "source": [
        "Plot the Learning Curve to learn about the performance of the Random Forest Model"
      ],
      "metadata": {
        "id": "9rPkE-cs119Z"
      }
    },
    {
      "cell_type": "code",
      "source": [
        "import matplotlib.pyplot as plt\n",
        "from sklearn.model_selection import learning_curve\n",
        "\n",
        "# Generate the learning curve\n",
        "train_sizes, train_scores, test_scores = learning_curve(rf_model, x_train, y_train, cv=5, scoring='accuracy')\n",
        "\n",
        "# Plot the learning curve\n",
        "plt.figure(figsize=(10, 6))\n",
        "plt.plot(train_sizes, train_scores.mean(axis=1), label='Training Accuracy')\n",
        "plt.plot(train_sizes, test_scores.mean(axis=1), label='Validation Accuracy')\n",
        "plt.title('Learning Curve for Random Forest')\n",
        "plt.xlabel('Training Data Size')\n",
        "plt.ylabel('Score')\n",
        "plt.legend()\n",
        "plt.grid(True)\n",
        "plt.show()"
      ],
      "metadata": {
        "id": "amBbsj8rp-Vh",
        "colab": {
          "base_uri": "https://localhost:8080/",
          "height": 564
        },
        "outputId": "be56132a-6a3e-406f-d708-b8be5a2399e8"
      },
      "execution_count": 396,
      "outputs": [
        {
          "output_type": "display_data",
          "data": {
            "text/plain": [
              "<Figure size 1000x600 with 1 Axes>"
            ],
            "image/png": "[encoded data removed]"
          },
          "metadata": {}
        }
      ]
    },
    {
      "cell_type": "markdown",
      "source": [
        "The Model is overfitting, since the training validation is constant at 100%.\n",
        "\n",
        "Therefore, we decided to apply feature selection using PCA + Hyper-parameter tuning the RandomForest Model."
      ],
      "metadata": {
        "id": "A4zzY6eSfwUh"
      }
    },
    {
      "cell_type": "code",
      "source": [
        "import numpy as np\n",
        "from sklearn import datasets\n",
        "from sklearn.model_selection import train_test_split, GridSearchCV\n",
        "from sklearn.decomposition import PCA\n",
        "from sklearn.ensemble import RandomForestClassifier\n",
        "from sklearn.pipeline import Pipeline\n",
        "from sklearn.metrics import classification_report, accuracy_score, confusion_matrix\n",
        "\n",
        "\n",
        "pca_rf_pipeline = Pipeline([\n",
        "    ('pca', PCA()),\n",
        "    ('rf', RandomForestClassifier(random_state=42))\n",
        "])\n",
        "\n",
        "# Define the parameter grid for GridSearchCV\n",
        "pca_rf_param_grid = {\n",
        "    'pca__n_components': [200,400],\n",
        "    'rf__n_estimators': [50,100],\n",
        "    'rf__max_depth': [None, 5, 10],\n",
        "    'rf__min_samples_split': [5, 10],\n",
        "    'rf__min_samples_leaf': [2, 4]\n",
        "}\n",
        "\n",
        "# Create the GridSearchCV object\n",
        "pca_rf_grid_search = GridSearchCV(pca_rf_pipeline, pca_rf_param_grid, cv=5, scoring='accuracy', verbose=1)\n",
        "\n",
        "# Fit the model\n",
        "pca_rf_grid_search.fit(x_train, y_train)\n",
        "\n",
        "# Best model\n",
        "print(\"Best parameters:\", pca_rf_grid_search.best_params_)\n",
        "print(\"Best cross-validation accuracy: {:.2f}\".format(pca_rf_grid_search.best_score_))\n",
        "\n",
        "# Test the model\n",
        "y_pred = pca_rf_grid_search.predict(x_test)\n",
        "pca_rf_accuracy = accuracy_score(y_test, y_pred)\n",
        "print(\"Test set accuracy: {:.2f}\".format(pca_rf_accuracy))\n",
        "print(\"\\nClassification Report:\\n\", classification_report(y_test, y_pred))\n",
        "\n",
        "# Print the confusion matrix\n",
        "print(\"\\nConfusion Matrix:\")\n",
        "print(confusion_matrix(y_test, y_pred))"
      ],
      "metadata": {
        "colab": {
          "base_uri": "https://localhost:8080/"
        },
        "id": "0dIG4wNoUylD",
        "outputId": "3c4790d7-615c-49a5-97c0-49cd97c0ddf6"
      },
      "execution_count": 397,
      "outputs": [
        {
          "output_type": "stream",
          "name": "stdout",
          "text": [
            "Fitting 5 folds for each of 48 candidates, totalling 240 fits\n",
            "Best parameters: {'pca__n_components': 400, 'rf__max_depth': None, 'rf__min_samples_leaf': 2, 'rf__min_samples_split': 5, 'rf__n_estimators': 50}\n",
            "Best cross-validation accuracy: 0.98\n",
            "Test set accuracy: 0.76\n",
            "\n",
            "Classification Report:\n",
            "               precision    recall  f1-score   support\n",
            "\n",
            "           0       0.76      0.99      0.86       136\n",
            "           1       0.00      0.00      0.00        13\n",
            "           2       0.00      0.00      0.00         2\n",
            "           3       0.00      0.00      0.00        27\n",
            "\n",
            "    accuracy                           0.76       178\n",
            "   macro avg       0.19      0.25      0.22       178\n",
            "weighted avg       0.58      0.76      0.66       178\n",
            "\n",
            "\n",
            "Confusion Matrix:\n",
            "[[135   0   0   1]\n",
            " [ 13   0   0   0]\n",
            " [  2   0   0   0]\n",
            " [ 27   0   0   0]]\n"
          ]
        }
      ]
    },
    {
      "cell_type": "markdown",
      "metadata": {
        "id": "ukY58kVO_eSG"
      },
      "source": [
        "# Support Vector Machine\n"
      ]
    },
    {
      "cell_type": "code",
      "source": [
        "from sklearn.svm import SVC\n",
        "from sklearn.model_selection import cross_validate\n",
        "\n",
        "# Create a support vector machine classifier\n",
        "svm_model = SVC(random_state=42)\n",
        "\n",
        "# Perform cross-validation with 5 folds\n",
        "cv_results = cross_validate(svm_model, x_train, y_train, cv=5, scoring=['accuracy', 'f1_macro'])\n",
        "\n",
        "# Print the average validation accuracy and f1 measure\n",
        "print(\"Average validation accuracy:\", cv_results['test_accuracy'].mean())\n",
        "print(\"Average validation f1 measure:\", cv_results['test_f1_macro'].mean())\n"
      ],
      "metadata": {
        "id": "634_MOMit1a-",
        "colab": {
          "base_uri": "https://localhost:8080/"
        },
        "outputId": "176f758d-2500-4ddf-d4e5-364ca7fe23ff"
      },
      "execution_count": 398,
      "outputs": [
        {
          "output_type": "stream",
          "name": "stdout",
          "text": [
            "Average validation accuracy: 0.8752489709201965\n",
            "Average validation f1 measure: 0.87334955323498\n"
          ]
        }
      ]
    },
    {
      "cell_type": "code",
      "source": [
        "import matplotlib.pyplot as plt\n",
        "# Generate the learning curve\n",
        "train_sizes, train_scores, test_scores = learning_curve(svm_model, x_train, y_train, cv=5, scoring='accuracy')\n",
        "\n",
        "# Plot the learning curve\n",
        "plt.figure(figsize=(10, 6))\n",
        "plt.plot(train_sizes, train_scores.mean(axis=1), label='Training Accuracy')\n",
        "plt.plot(train_sizes, test_scores.mean(axis=1), label='Validation Accuracy')\n",
        "plt.title('Learning Curve for SVM')\n",
        "plt.xlabel('Training Data Size')\n",
        "plt.ylabel('Score')\n",
        "plt.legend()\n",
        "plt.grid(True)\n",
        "plt.show()"
      ],
      "metadata": {
        "id": "U9TJHwBcuYAA",
        "colab": {
          "base_uri": "https://localhost:8080/",
          "height": 564
        },
        "outputId": "25c56741-2c32-45a8-a295-6a8aea200ad9"
      },
      "execution_count": 399,
      "outputs": [
        {
          "output_type": "display_data",
          "data": {
            "text/plain": [
              "<Figure size 1000x600 with 1 Axes>"
            ],
            "image/png": "[encoded data removed]"
          },
          "metadata": {}
        }
      ]
    },
    {
      "cell_type": "markdown",
      "source": [
        "The Model is overfitting, since the training validation is constant at 100%.\n",
        "\n",
        "Therefore, we decided to apply feature selection using PCA + Hyper-parameter tuning the SVC Model."
      ],
      "metadata": {
        "id": "KrlYiYSgfzpH"
      }
    },
    {
      "cell_type": "code",
      "source": [
        "import numpy as np\n",
        "from sklearn import datasets\n",
        "from sklearn.model_selection import train_test_split, GridSearchCV\n",
        "from sklearn.decomposition import PCA\n",
        "from sklearn.svm import SVC\n",
        "from sklearn.pipeline import Pipeline\n",
        "from sklearn.metrics import classification_report, accuracy_score, confusion_matrix\n",
        "\n",
        "\n",
        "pca_svc_pipeline = Pipeline([\n",
        "    ('pca', PCA()),\n",
        "    ('svc', SVC(random_state=42))\n",
        "])\n",
        "\n",
        "# Define the parameter grid for GridSearchCV\n",
        "pca_svc_param_grid = {\n",
        "    'pca__n_components': [300,500],\n",
        "    'svc__kernel': ['rbf'],\n",
        "    'svc__C': [10, 15],\n",
        "    'svc__gamma': ['auto', 'scale'],\n",
        "    'svc__degree': [1,2],\n",
        "    'svc__max_iter': [500,700]\n",
        "}\n",
        "\n",
        "# Create the GridSearchCV object\n",
        "pca_svc_grid_search = GridSearchCV(pca_svc_pipeline, pca_svc_param_grid, cv=5, scoring='accuracy', verbose=1)\n",
        "\n",
        "# Fit the model\n",
        "pca_svc_grid_search.fit(x_train, y_train)\n",
        "\n",
        "# Best model\n",
        "print(\"Best parameters:\", pca_svc_grid_search.best_params_)\n",
        "print(\"Best cross-validation accuracy: {:.2f}\".format(pca_svc_grid_search.best_score_))\n",
        "\n",
        "# Test the model\n",
        "y_pred = pca_svc_grid_search.predict(x_test)\n",
        "pca_svc_accuracy = accuracy_score(y_test, y_pred)\n",
        "print(\"Test set accuracy: {:.2f}\".format(pca_svc_accuracy))\n",
        "print(\"\\nClassification Report:\\n\", classification_report(y_test, y_pred))\n",
        "\n",
        "# Print the confusion matrix\n",
        "print(\"\\nConfusion Matrix:\")\n",
        "print(confusion_matrix(y_test, y_pred))"
      ],
      "metadata": {
        "colab": {
          "base_uri": "https://localhost:8080/"
        },
        "id": "UZmSDucvzfbW",
        "outputId": "8257d3a3-5717-4d9b-b5be-8066296de82c"
      },
      "execution_count": 430,
      "outputs": [
        {
          "output_type": "stream",
          "name": "stdout",
          "text": [
            "Fitting 5 folds for each of 32 candidates, totalling 160 fits\n",
            "Best parameters: {'pca__n_components': 300, 'svc__C': 15, 'svc__degree': 1, 'svc__gamma': 'scale', 'svc__kernel': 'rbf', 'svc__max_iter': 700}\n",
            "Best cross-validation accuracy: 0.99\n",
            "Test set accuracy: 0.79\n",
            "\n",
            "Classification Report:\n",
            "               precision    recall  f1-score   support\n",
            "\n",
            "           0       0.80      0.99      0.88       136\n",
            "           1       0.62      0.38      0.48        13\n",
            "           2       0.00      0.00      0.00         2\n",
            "           3       0.50      0.04      0.07        27\n",
            "\n",
            "    accuracy                           0.79       178\n",
            "   macro avg       0.48      0.35      0.36       178\n",
            "weighted avg       0.73      0.79      0.72       178\n",
            "\n",
            "\n",
            "Confusion Matrix:\n",
            "[[134   1   0   1]\n",
            " [  8   5   0   0]\n",
            " [  2   0   0   0]\n",
            " [ 24   2   0   1]]\n"
          ]
        }
      ]
    },
    {
      "cell_type": "markdown",
      "source": [
        "# Neural Network\n"
      ],
      "metadata": {
        "id": "BCKNXW90bkbd"
      }
    },
    {
      "cell_type": "code",
      "source": [
        "import tensorflow as tf\n",
        "from tensorflow.keras.models import Sequential\n",
        "from tensorflow.keras.layers import Dense, Dropout\n",
        "from tensorflow.keras.callbacks import EarlyStopping\n",
        "from sklearn.model_selection import RandomizedSearchCV, StratifiedKFold\n",
        "from sklearn.metrics import f1_score, accuracy_score, confusion_matrix\n",
        "from tensorflow.keras.regularizers import l1\n",
        "from tensorflow.keras.layers import LeakyReLU\n",
        "\n",
        "# Define the model creation function\n",
        "def create_model(learning_rate, l1_reg, monitor, loss,optimizer, outputactivation, dropoutL1, dropoutL2, dropoutL3):\n",
        "    model = Sequential()\n",
        "    model.add(Dense(units=64, activation=LeakyReLU(), kernel_regularizer=l1(l1_reg), input_shape=(x_train.shape[1],)))\n",
        "    model.add(Dropout(dropoutL1))\n",
        "    model.add(Dense(units=256, activation=LeakyReLU()))\n",
        "    model.add(Dropout(dropoutL2))\n",
        "    model.add(Dense(units=128, activation=LeakyReLU()))\n",
        "    model.add(Dropout(dropoutL3))\n",
        "    model.add(Dense(units=len(df['cancer_type'].unique()), activation= outputactivation))\n",
        "    model.compile(optimizer=optimizer(learning_rate=learning_rate), loss=loss, metrics=['accuracy'])\n",
        "\n",
        "    # Define the early stopping callback\n",
        "    early_stopping = EarlyStopping(monitor=monitor, patience=5)\n",
        "\n",
        "    return model, early_stopping, learning_rate, l1_reg,monitor,loss,optimizer,outputactivation,dropoutL1,dropoutL2,dropoutL3\n",
        "\n",
        "# Define the parameter grid\n",
        "param_grid = {\n",
        "    'learning_rate': [0.0003],\n",
        "    'l1_reg': [0.0003],\n",
        "    'monitor': ['accuracy'],\n",
        "    'loss': ['sparse_categorical_crossentropy'],\n",
        "    'optimizer': [tf.keras.optimizers.Nadam],\n",
        "    'outputactivation': ['softmax'],\n",
        "     'dropoutL1': [0.2,0.3],\n",
        "    'dropoutL2': [0.3,0.4],\n",
        "    'dropoutL3': [0.2, 0.3]\n",
        "}\n",
        "\n",
        "# Define the model evaluation function\n",
        "def evaluate_model(model, x_train, y_train, x_test, y_test):\n",
        "    # Train the model on the training set\n",
        "    current_model = model[0]\n",
        "    current_model.fit(x_train, y_train, epochs=30, batch_size=32, callbacks=[model[1]])\n",
        "\n",
        "    # Make predictions on the test set\n",
        "    y_pred = current_model.predict(x_test).argmax(axis=1)\n",
        "\n",
        "    accuracy = accuracy_score(y_test, y_pred)\n",
        "    return accuracy\n",
        "\n"
      ],
      "metadata": {
        "id": "jRTwF9plbjKl"
      },
      "execution_count": 439,
      "outputs": []
    },
    {
      "cell_type": "code",
      "source": [
        "from sklearn.metrics import accuracy_score, f1_score\n",
        "import itertools\n",
        "\n",
        "best_accuracy_nn = 0\n",
        "best_accuracy_model = None\n",
        "\n",
        "for params in itertools.product(*param_grid.values()):\n",
        "    print(params)\n",
        "    model = create_model(*params)\n",
        "    accuracy  = evaluate_model(model, x_train, y_train, x_test, y_test)\n",
        "    if accuracy > best_accuracy_nn:\n",
        "        print(\"Best accuracy is : ------ :\", accuracy )\n",
        "        best_accuracy_nn = accuracy\n",
        "        best_accuracy_model = model\n",
        "\n",
        "\n",
        "print(\"Best Acc score:\", best_accuracy_nn)\n",
        "print(\"Best Acc model:\", best_accuracy_model)\n"
      ],
      "metadata": {
        "id": "wKQFuKO847TQ",
        "colab": {
          "base_uri": "https://localhost:8080/"
        },
        "outputId": "add3d364-51ac-4830-edbc-56d5802ed197"
      },
      "execution_count": 440,
      "outputs": [
        {
          "output_type": "stream",
          "name": "stdout",
          "text": [
            "(0.0003, 0.0003, 'accuracy', 'sparse_categorical_crossentropy', <class 'keras.src.optimizers.nadam.Nadam'>, 'softmax', 0.2, 0.3, 0.2)\n",
            "Epoch 1/30\n",
            "70/70 [==============================] - 5s 14ms/step - loss: 2.3418 - accuracy: 0.4277\n",
            "Epoch 2/30\n",
            "70/70 [==============================] - 1s 16ms/step - loss: 1.1160 - accuracy: 0.6293\n",
            "Epoch 3/30\n",
            "70/70 [==============================] - 1s 15ms/step - loss: 0.8464 - accuracy: 0.7324\n",
            "Epoch 4/30\n",
            "70/70 [==============================] - 1s 16ms/step - loss: 0.6969 - accuracy: 0.7988\n",
            "Epoch 5/30\n",
            "70/70 [==============================] - 1s 16ms/step - loss: 0.5976 - accuracy: 0.8585\n",
            "Epoch 6/30\n",
            "70/70 [==============================] - 1s 10ms/step - loss: 0.5275 - accuracy: 0.8766\n",
            "Epoch 7/30\n",
            "70/70 [==============================] - 1s 9ms/step - loss: 0.4661 - accuracy: 0.9064\n",
            "Epoch 8/30\n",
            "70/70 [==============================] - 1s 9ms/step - loss: 0.4071 - accuracy: 0.9340\n",
            "Epoch 9/30\n",
            "70/70 [==============================] - 1s 9ms/step - loss: 0.3674 - accuracy: 0.9489\n",
            "Epoch 10/30\n",
            "70/70 [==============================] - 1s 11ms/step - loss: 0.3373 - accuracy: 0.9629\n",
            "Epoch 11/30\n",
            "70/70 [==============================] - 1s 14ms/step - loss: 0.3059 - accuracy: 0.9742\n",
            "Epoch 12/30\n",
            "70/70 [==============================] - 1s 14ms/step - loss: 0.2904 - accuracy: 0.9783\n",
            "Epoch 13/30\n",
            "70/70 [==============================] - 1s 14ms/step - loss: 0.2551 - accuracy: 0.9869\n",
            "Epoch 14/30\n",
            "70/70 [==============================] - 1s 14ms/step - loss: 0.2459 - accuracy: 0.9869\n",
            "Epoch 15/30\n",
            "70/70 [==============================] - 1s 10ms/step - loss: 0.2417 - accuracy: 0.9869\n",
            "Epoch 16/30\n",
            "70/70 [==============================] - 1s 9ms/step - loss: 0.2284 - accuracy: 0.9887\n",
            "Epoch 17/30\n",
            "70/70 [==============================] - 1s 9ms/step - loss: 0.2228 - accuracy: 0.9851\n",
            "Epoch 18/30\n",
            "70/70 [==============================] - 1s 9ms/step - loss: 0.2140 - accuracy: 0.9887\n",
            "Epoch 19/30\n",
            "70/70 [==============================] - 1s 9ms/step - loss: 0.2118 - accuracy: 0.9882\n",
            "Epoch 20/30\n",
            "70/70 [==============================] - 1s 9ms/step - loss: 0.2054 - accuracy: 0.9873\n",
            "Epoch 21/30\n",
            "70/70 [==============================] - 1s 9ms/step - loss: 0.1983 - accuracy: 0.9919\n",
            "Epoch 22/30\n",
            "70/70 [==============================] - 1s 9ms/step - loss: 0.1842 - accuracy: 0.9959\n",
            "Epoch 23/30\n",
            "70/70 [==============================] - 1s 9ms/step - loss: 0.1864 - accuracy: 0.9923\n",
            "Epoch 24/30\n",
            "70/70 [==============================] - 1s 9ms/step - loss: 0.2464 - accuracy: 0.9724\n",
            "Epoch 25/30\n",
            "70/70 [==============================] - 1s 9ms/step - loss: 0.2042 - accuracy: 0.9914\n",
            "Epoch 26/30\n",
            "70/70 [==============================] - 1s 9ms/step - loss: 0.1814 - accuracy: 0.9946\n",
            "Epoch 27/30\n",
            "70/70 [==============================] - 1s 10ms/step - loss: 0.1704 - accuracy: 0.9968\n",
            "Epoch 28/30\n",
            "70/70 [==============================] - 1s 9ms/step - loss: 0.1873 - accuracy: 0.9873\n",
            "Epoch 29/30\n",
            "70/70 [==============================] - 1s 9ms/step - loss: 0.1805 - accuracy: 0.9896\n",
            "Epoch 30/30\n",
            "70/70 [==============================] - 1s 11ms/step - loss: 0.1636 - accuracy: 0.9941\n",
            "6/6 [==============================] - 0s 4ms/step\n",
            "Best accuracy is : ------ : 0.7528089887640449\n",
            "(0.0003, 0.0003, 'accuracy', 'sparse_categorical_crossentropy', <class 'keras.src.optimizers.nadam.Nadam'>, 'softmax', 0.2, 0.3, 0.3)\n",
            "Epoch 1/30\n",
            "70/70 [==============================] - 2s 9ms/step - loss: 2.3724 - accuracy: 0.4064\n",
            "Epoch 2/30\n",
            "70/70 [==============================] - 1s 9ms/step - loss: 1.1693 - accuracy: 0.6053\n",
            "Epoch 3/30\n",
            "70/70 [==============================] - 1s 9ms/step - loss: 0.8960 - accuracy: 0.7093\n",
            "Epoch 4/30\n",
            "70/70 [==============================] - 1s 9ms/step - loss: 0.7368 - accuracy: 0.7789\n",
            "Epoch 5/30\n",
            "70/70 [==============================] - 1s 9ms/step - loss: 0.6275 - accuracy: 0.8278\n",
            "Epoch 6/30\n",
            "70/70 [==============================] - 1s 9ms/step - loss: 0.5335 - accuracy: 0.8757\n",
            "Epoch 7/30\n",
            "70/70 [==============================] - 1s 9ms/step - loss: 0.4672 - accuracy: 0.9100\n",
            "Epoch 8/30\n",
            "70/70 [==============================] - 1s 13ms/step - loss: 0.4174 - accuracy: 0.9277\n",
            "Epoch 9/30\n",
            "70/70 [==============================] - 1s 14ms/step - loss: 0.3868 - accuracy: 0.9426\n",
            "Epoch 10/30\n",
            "70/70 [==============================] - 1s 14ms/step - loss: 0.3451 - accuracy: 0.9589\n",
            "Epoch 11/30\n",
            "70/70 [==============================] - 1s 14ms/step - loss: 0.3073 - accuracy: 0.9724\n",
            "Epoch 12/30\n",
            "70/70 [==============================] - 1s 13ms/step - loss: 0.2887 - accuracy: 0.9756\n",
            "Epoch 13/30\n",
            "70/70 [==============================] - 1s 9ms/step - loss: 0.2704 - accuracy: 0.9815\n",
            "Epoch 14/30\n",
            "70/70 [==============================] - 1s 9ms/step - loss: 0.2666 - accuracy: 0.9801\n",
            "Epoch 15/30\n",
            "70/70 [==============================] - 1s 10ms/step - loss: 0.2384 - accuracy: 0.9864\n",
            "Epoch 16/30\n",
            "70/70 [==============================] - 1s 9ms/step - loss: 0.2291 - accuracy: 0.9887\n",
            "Epoch 17/30\n",
            "70/70 [==============================] - 1s 9ms/step - loss: 0.2083 - accuracy: 0.9941\n",
            "Epoch 18/30\n",
            "70/70 [==============================] - 1s 9ms/step - loss: 0.2135 - accuracy: 0.9882\n",
            "Epoch 19/30\n",
            "70/70 [==============================] - 1s 9ms/step - loss: 0.2006 - accuracy: 0.9946\n",
            "Epoch 20/30\n",
            "70/70 [==============================] - 1s 9ms/step - loss: 0.2016 - accuracy: 0.9882\n",
            "Epoch 21/30\n",
            "70/70 [==============================] - 1s 9ms/step - loss: 0.2101 - accuracy: 0.9878\n",
            "Epoch 22/30\n",
            "70/70 [==============================] - 1s 9ms/step - loss: 0.2031 - accuracy: 0.9878\n",
            "Epoch 23/30\n",
            "70/70 [==============================] - 1s 10ms/step - loss: 0.1912 - accuracy: 0.9914\n",
            "Epoch 24/30\n",
            "70/70 [==============================] - 1s 9ms/step - loss: 0.1757 - accuracy: 0.9950\n",
            "Epoch 25/30\n",
            "70/70 [==============================] - 1s 10ms/step - loss: 0.1675 - accuracy: 0.9964\n",
            "Epoch 26/30\n",
            "70/70 [==============================] - 1s 9ms/step - loss: 0.2017 - accuracy: 0.9815\n",
            "Epoch 27/30\n",
            "70/70 [==============================] - 1s 9ms/step - loss: 0.1962 - accuracy: 0.9855\n",
            "Epoch 28/30\n",
            "70/70 [==============================] - 1s 14ms/step - loss: 0.1584 - accuracy: 0.9982\n",
            "Epoch 29/30\n",
            "70/70 [==============================] - 1s 14ms/step - loss: 0.1737 - accuracy: 0.9892\n",
            "Epoch 30/30\n",
            "70/70 [==============================] - 1s 14ms/step - loss: 0.1671 - accuracy: 0.9941\n",
            "6/6 [==============================] - 0s 4ms/step\n",
            "(0.0003, 0.0003, 'accuracy', 'sparse_categorical_crossentropy', <class 'keras.src.optimizers.nadam.Nadam'>, 'softmax', 0.2, 0.4, 0.2)\n",
            "Epoch 1/30\n",
            "70/70 [==============================] - 2s 10ms/step - loss: 2.3776 - accuracy: 0.4069\n",
            "Epoch 2/30\n",
            "70/70 [==============================] - 1s 10ms/step - loss: 1.1818 - accuracy: 0.6026\n",
            "Epoch 3/30\n",
            "70/70 [==============================] - 1s 9ms/step - loss: 0.9058 - accuracy: 0.6994\n",
            "Epoch 4/30\n",
            "70/70 [==============================] - 1s 10ms/step - loss: 0.7351 - accuracy: 0.7911\n",
            "Epoch 5/30\n",
            "70/70 [==============================] - 1s 10ms/step - loss: 0.6164 - accuracy: 0.8549\n",
            "Epoch 6/30\n",
            "70/70 [==============================] - 1s 9ms/step - loss: 0.5431 - accuracy: 0.8847\n",
            "Epoch 7/30\n",
            "70/70 [==============================] - 1s 9ms/step - loss: 0.4710 - accuracy: 0.9164\n",
            "Epoch 8/30\n",
            "70/70 [==============================] - 1s 9ms/step - loss: 0.4970 - accuracy: 0.9114\n",
            "Epoch 9/30\n",
            "70/70 [==============================] - 1s 9ms/step - loss: 0.3892 - accuracy: 0.9525\n",
            "Epoch 10/30\n",
            "70/70 [==============================] - 1s 9ms/step - loss: 0.3503 - accuracy: 0.9638\n",
            "Epoch 11/30\n",
            "70/70 [==============================] - 1s 10ms/step - loss: 0.3329 - accuracy: 0.9684\n",
            "Epoch 12/30\n",
            "70/70 [==============================] - 1s 10ms/step - loss: 0.3058 - accuracy: 0.9733\n",
            "Epoch 13/30\n",
            "70/70 [==============================] - 1s 10ms/step - loss: 0.2738 - accuracy: 0.9851\n",
            "Epoch 14/30\n",
            "70/70 [==============================] - 1s 13ms/step - loss: 0.2578 - accuracy: 0.9882\n",
            "Epoch 15/30\n",
            "70/70 [==============================] - 1s 14ms/step - loss: 0.2499 - accuracy: 0.9860\n",
            "Epoch 16/30\n",
            "70/70 [==============================] - 1s 14ms/step - loss: 0.2394 - accuracy: 0.9887\n",
            "Epoch 17/30\n",
            "70/70 [==============================] - 1s 14ms/step - loss: 0.2423 - accuracy: 0.9869\n",
            "Epoch 18/30\n",
            "70/70 [==============================] - 1s 13ms/step - loss: 0.2248 - accuracy: 0.9882\n",
            "Epoch 19/30\n",
            "70/70 [==============================] - 1s 10ms/step - loss: 0.2139 - accuracy: 0.9932\n",
            "Epoch 20/30\n",
            "70/70 [==============================] - 1s 9ms/step - loss: 0.2147 - accuracy: 0.9887\n",
            "Epoch 21/30\n",
            "70/70 [==============================] - 1s 9ms/step - loss: 0.2009 - accuracy: 0.9937\n",
            "Epoch 22/30\n",
            "70/70 [==============================] - 1s 10ms/step - loss: 0.2003 - accuracy: 0.9901\n",
            "Epoch 23/30\n",
            "70/70 [==============================] - 1s 9ms/step - loss: 0.2051 - accuracy: 0.9873\n",
            "Epoch 24/30\n",
            "70/70 [==============================] - 1s 9ms/step - loss: 0.2137 - accuracy: 0.9864\n",
            "Epoch 25/30\n",
            "70/70 [==============================] - 1s 9ms/step - loss: 0.1949 - accuracy: 0.9896\n",
            "Epoch 26/30\n",
            "70/70 [==============================] - 1s 10ms/step - loss: 0.2810 - accuracy: 0.9643\n",
            "6/6 [==============================] - 0s 4ms/step\n",
            "Best accuracy is : ------ : 0.7808988764044944\n",
            "(0.0003, 0.0003, 'accuracy', 'sparse_categorical_crossentropy', <class 'keras.src.optimizers.nadam.Nadam'>, 'softmax', 0.2, 0.4, 0.3)\n",
            "Epoch 1/30\n",
            "70/70 [==============================] - 2s 11ms/step - loss: 2.3826 - accuracy: 0.4091\n",
            "Epoch 2/30\n",
            "70/70 [==============================] - 1s 15ms/step - loss: 1.1798 - accuracy: 0.6144\n",
            "Epoch 3/30\n",
            "70/70 [==============================] - 1s 14ms/step - loss: 0.8912 - accuracy: 0.7048\n",
            "Epoch 4/30\n",
            "70/70 [==============================] - 1s 14ms/step - loss: 0.7475 - accuracy: 0.7636\n",
            "Epoch 5/30\n",
            "70/70 [==============================] - 1s 14ms/step - loss: 0.6472 - accuracy: 0.8223\n",
            "Epoch 6/30\n",
            "70/70 [==============================] - 1s 12ms/step - loss: 0.5749 - accuracy: 0.8580\n",
            "Epoch 7/30\n",
            "70/70 [==============================] - 1s 10ms/step - loss: 0.5148 - accuracy: 0.8838\n",
            "Epoch 8/30\n",
            "70/70 [==============================] - 1s 9ms/step - loss: 0.4553 - accuracy: 0.9132\n",
            "Epoch 9/30\n",
            "70/70 [==============================] - 1s 9ms/step - loss: 0.4057 - accuracy: 0.9367\n",
            "Epoch 10/30\n",
            "70/70 [==============================] - 1s 9ms/step - loss: 0.3710 - accuracy: 0.9498\n",
            "Epoch 11/30\n",
            "70/70 [==============================] - 1s 10ms/step - loss: 0.3302 - accuracy: 0.9656\n",
            "Epoch 12/30\n",
            "70/70 [==============================] - 1s 9ms/step - loss: 0.2995 - accuracy: 0.9756\n",
            "Epoch 13/30\n",
            "70/70 [==============================] - 1s 10ms/step - loss: 0.2702 - accuracy: 0.9837\n",
            "Epoch 14/30\n",
            "70/70 [==============================] - 1s 10ms/step - loss: 0.2648 - accuracy: 0.9828\n",
            "Epoch 15/30\n",
            "70/70 [==============================] - 1s 10ms/step - loss: 0.2438 - accuracy: 0.9905\n",
            "Epoch 16/30\n",
            "70/70 [==============================] - 1s 10ms/step - loss: 0.2321 - accuracy: 0.9878\n",
            "Epoch 17/30\n",
            "70/70 [==============================] - 1s 10ms/step - loss: 0.2321 - accuracy: 0.9860\n",
            "Epoch 18/30\n",
            "70/70 [==============================] - 1s 9ms/step - loss: 0.2177 - accuracy: 0.9896\n",
            "Epoch 19/30\n",
            "70/70 [==============================] - 1s 10ms/step - loss: 0.2150 - accuracy: 0.9914\n",
            "Epoch 20/30\n",
            "70/70 [==============================] - 1s 10ms/step - loss: 0.2320 - accuracy: 0.9828\n",
            "Epoch 21/30\n",
            "70/70 [==============================] - 1s 14ms/step - loss: 0.2006 - accuracy: 0.9941\n",
            "Epoch 22/30\n",
            "70/70 [==============================] - 1s 15ms/step - loss: 0.2293 - accuracy: 0.9788\n",
            "Epoch 23/30\n",
            "70/70 [==============================] - 1s 14ms/step - loss: 0.1860 - accuracy: 0.9959\n",
            "Epoch 24/30\n",
            "70/70 [==============================] - 1s 14ms/step - loss: 0.1843 - accuracy: 0.9946\n",
            "Epoch 25/30\n",
            "70/70 [==============================] - 1s 12ms/step - loss: 0.1981 - accuracy: 0.9882\n",
            "Epoch 26/30\n",
            "70/70 [==============================] - 1s 18ms/step - loss: 0.1926 - accuracy: 0.9905\n",
            "Epoch 27/30\n",
            "70/70 [==============================] - 1s 9ms/step - loss: 0.1687 - accuracy: 0.9968\n",
            "Epoch 28/30\n",
            "70/70 [==============================] - 1s 10ms/step - loss: 0.1706 - accuracy: 0.9937\n",
            "Epoch 29/30\n",
            "70/70 [==============================] - 1s 9ms/step - loss: 0.1744 - accuracy: 0.9910\n",
            "Epoch 30/30\n",
            "70/70 [==============================] - 1s 10ms/step - loss: 0.1736 - accuracy: 0.9928\n",
            "6/6 [==============================] - 0s 5ms/step\n",
            "(0.0003, 0.0003, 'accuracy', 'sparse_categorical_crossentropy', <class 'keras.src.optimizers.nadam.Nadam'>, 'softmax', 0.3, 0.3, 0.2)\n",
            "Epoch 1/30\n",
            "70/70 [==============================] - 3s 15ms/step - loss: 2.3958 - accuracy: 0.3766\n",
            "Epoch 2/30\n",
            "70/70 [==============================] - 1s 15ms/step - loss: 1.1910 - accuracy: 0.5976\n",
            "Epoch 3/30\n",
            "70/70 [==============================] - 1s 12ms/step - loss: 0.9187 - accuracy: 0.6849\n",
            "Epoch 4/30\n",
            "70/70 [==============================] - 1s 9ms/step - loss: 0.7495 - accuracy: 0.7681\n",
            "Epoch 5/30\n",
            "70/70 [==============================] - 1s 9ms/step - loss: 0.6368 - accuracy: 0.8314\n",
            "Epoch 6/30\n",
            "70/70 [==============================] - 1s 10ms/step - loss: 0.5636 - accuracy: 0.8648\n",
            "Epoch 7/30\n",
            "70/70 [==============================] - 1s 10ms/step - loss: 0.5164 - accuracy: 0.8838\n",
            "Epoch 8/30\n",
            "70/70 [==============================] - 1s 10ms/step - loss: 0.4588 - accuracy: 0.9146\n",
            "Epoch 9/30\n",
            "70/70 [==============================] - 1s 10ms/step - loss: 0.3999 - accuracy: 0.9358\n",
            "Epoch 10/30\n",
            "70/70 [==============================] - 1s 10ms/step - loss: 0.4001 - accuracy: 0.9394\n",
            "Epoch 11/30\n",
            "70/70 [==============================] - 1s 10ms/step - loss: 0.3460 - accuracy: 0.9589\n",
            "Epoch 12/30\n",
            "70/70 [==============================] - 1s 10ms/step - loss: 0.3185 - accuracy: 0.9706\n",
            "Epoch 13/30\n",
            "70/70 [==============================] - 1s 9ms/step - loss: 0.2903 - accuracy: 0.9729\n",
            "Epoch 14/30\n",
            "70/70 [==============================] - 1s 9ms/step - loss: 0.2937 - accuracy: 0.9702\n",
            "Epoch 15/30\n",
            "70/70 [==============================] - 1s 10ms/step - loss: 0.2720 - accuracy: 0.9769\n",
            "Epoch 16/30\n",
            "70/70 [==============================] - 1s 9ms/step - loss: 0.2501 - accuracy: 0.9837\n",
            "Epoch 17/30\n",
            "70/70 [==============================] - 1s 10ms/step - loss: 0.2318 - accuracy: 0.9878\n",
            "Epoch 18/30\n",
            "70/70 [==============================] - 1s 14ms/step - loss: 0.2292 - accuracy: 0.9860\n",
            "Epoch 19/30\n",
            "70/70 [==============================] - 1s 14ms/step - loss: 0.2482 - accuracy: 0.9765\n",
            "Epoch 20/30\n",
            "70/70 [==============================] - 1s 14ms/step - loss: 0.2401 - accuracy: 0.9788\n",
            "Epoch 21/30\n",
            "70/70 [==============================] - 1s 14ms/step - loss: 0.2190 - accuracy: 0.9873\n",
            "Epoch 22/30\n",
            "70/70 [==============================] - 1s 13ms/step - loss: 0.2339 - accuracy: 0.9778\n",
            "6/6 [==============================] - 0s 3ms/step\n",
            "(0.0003, 0.0003, 'accuracy', 'sparse_categorical_crossentropy', <class 'keras.src.optimizers.nadam.Nadam'>, 'softmax', 0.3, 0.3, 0.3)\n",
            "Epoch 1/30\n",
            "70/70 [==============================] - 2s 10ms/step - loss: 2.4142 - accuracy: 0.3807\n",
            "Epoch 2/30\n",
            "70/70 [==============================] - 1s 10ms/step - loss: 1.2088 - accuracy: 0.6049\n",
            "Epoch 3/30\n",
            "70/70 [==============================] - 1s 10ms/step - loss: 0.9059 - accuracy: 0.7048\n",
            "Epoch 4/30\n",
            "70/70 [==============================] - 1s 9ms/step - loss: 0.7487 - accuracy: 0.7771\n",
            "Epoch 5/30\n",
            "70/70 [==============================] - 1s 10ms/step - loss: 0.6474 - accuracy: 0.8273\n",
            "Epoch 6/30\n",
            "70/70 [==============================] - 1s 10ms/step - loss: 0.5817 - accuracy: 0.8599\n",
            "Epoch 7/30\n",
            "70/70 [==============================] - 1s 15ms/step - loss: 0.5154 - accuracy: 0.8933\n",
            "Epoch 8/30\n",
            "70/70 [==============================] - 1s 15ms/step - loss: 0.4879 - accuracy: 0.9005\n",
            "Epoch 9/30\n",
            "70/70 [==============================] - 1s 16ms/step - loss: 0.4555 - accuracy: 0.9173\n",
            "Epoch 10/30\n",
            "70/70 [==============================] - 1s 14ms/step - loss: 0.3844 - accuracy: 0.9489\n",
            "Epoch 11/30\n",
            "70/70 [==============================] - 1s 14ms/step - loss: 0.3561 - accuracy: 0.9534\n",
            "Epoch 12/30\n",
            "70/70 [==============================] - 1s 10ms/step - loss: 0.3295 - accuracy: 0.9638\n",
            "Epoch 13/30\n",
            "70/70 [==============================] - 1s 10ms/step - loss: 0.3184 - accuracy: 0.9670\n",
            "Epoch 14/30\n",
            "70/70 [==============================] - 1s 10ms/step - loss: 0.2897 - accuracy: 0.9765\n",
            "Epoch 15/30\n",
            "70/70 [==============================] - 1s 10ms/step - loss: 0.2759 - accuracy: 0.9783\n",
            "Epoch 16/30\n",
            "70/70 [==============================] - 1s 10ms/step - loss: 0.2520 - accuracy: 0.9851\n",
            "Epoch 17/30\n",
            "70/70 [==============================] - 1s 10ms/step - loss: 0.2513 - accuracy: 0.9824\n",
            "Epoch 18/30\n",
            "70/70 [==============================] - 1s 10ms/step - loss: 0.2403 - accuracy: 0.9873\n",
            "Epoch 19/30\n",
            "70/70 [==============================] - 1s 10ms/step - loss: 0.2407 - accuracy: 0.9855\n",
            "Epoch 20/30\n",
            "70/70 [==============================] - 1s 10ms/step - loss: 0.2272 - accuracy: 0.9896\n",
            "Epoch 21/30\n",
            "70/70 [==============================] - 1s 10ms/step - loss: 0.2162 - accuracy: 0.9905\n",
            "Epoch 22/30\n",
            "70/70 [==============================] - 1s 10ms/step - loss: 0.2289 - accuracy: 0.9824\n",
            "Epoch 23/30\n",
            "70/70 [==============================] - 1s 10ms/step - loss: 0.2265 - accuracy: 0.9851\n",
            "Epoch 24/30\n",
            "70/70 [==============================] - 1s 10ms/step - loss: 0.2267 - accuracy: 0.9851\n",
            "Epoch 25/30\n",
            "70/70 [==============================] - 1s 13ms/step - loss: 0.2015 - accuracy: 0.9923\n",
            "Epoch 26/30\n",
            "70/70 [==============================] - 1s 15ms/step - loss: 0.2004 - accuracy: 0.9896\n",
            "Epoch 27/30\n",
            "70/70 [==============================] - 1s 14ms/step - loss: 0.2070 - accuracy: 0.9901\n",
            "Epoch 28/30\n",
            "70/70 [==============================] - 1s 14ms/step - loss: 0.1927 - accuracy: 0.9905\n",
            "Epoch 29/30\n",
            "70/70 [==============================] - 1s 14ms/step - loss: 0.1958 - accuracy: 0.9905\n",
            "Epoch 30/30\n",
            "70/70 [==============================] - 1s 13ms/step - loss: 0.1932 - accuracy: 0.9873\n",
            "6/6 [==============================] - 0s 3ms/step\n",
            "(0.0003, 0.0003, 'accuracy', 'sparse_categorical_crossentropy', <class 'keras.src.optimizers.nadam.Nadam'>, 'softmax', 0.3, 0.4, 0.2)\n",
            "Epoch 1/30\n",
            "70/70 [==============================] - 2s 10ms/step - loss: 2.4174 - accuracy: 0.3829\n",
            "Epoch 2/30\n",
            "70/70 [==============================] - 1s 10ms/step - loss: 1.2437 - accuracy: 0.5633\n",
            "Epoch 3/30\n",
            "70/70 [==============================] - 1s 10ms/step - loss: 0.9601 - accuracy: 0.6591\n",
            "Epoch 4/30\n",
            "70/70 [==============================] - 1s 9ms/step - loss: 0.8202 - accuracy: 0.7351\n",
            "Epoch 5/30\n",
            "70/70 [==============================] - 1s 10ms/step - loss: 0.7070 - accuracy: 0.7880\n",
            "Epoch 6/30\n",
            "70/70 [==============================] - 1s 10ms/step - loss: 0.6297 - accuracy: 0.8201\n",
            "Epoch 7/30\n",
            "70/70 [==============================] - 1s 10ms/step - loss: 0.5663 - accuracy: 0.8454\n",
            "Epoch 8/30\n",
            "70/70 [==============================] - 1s 10ms/step - loss: 0.5065 - accuracy: 0.8861\n",
            "Epoch 9/30\n",
            "70/70 [==============================] - 1s 10ms/step - loss: 0.4668 - accuracy: 0.9024\n",
            "Epoch 10/30\n",
            "70/70 [==============================] - 1s 9ms/step - loss: 0.4360 - accuracy: 0.9236\n",
            "Epoch 11/30\n",
            "70/70 [==============================] - 1s 10ms/step - loss: 0.3975 - accuracy: 0.9326\n",
            "Epoch 12/30\n",
            "70/70 [==============================] - 1s 14ms/step - loss: 0.3567 - accuracy: 0.9512\n",
            "Epoch 13/30\n",
            "70/70 [==============================] - 1s 14ms/step - loss: 0.3361 - accuracy: 0.9571\n",
            "Epoch 14/30\n",
            "70/70 [==============================] - 1s 15ms/step - loss: 0.3084 - accuracy: 0.9684\n",
            "Epoch 15/30\n",
            "70/70 [==============================] - 1s 14ms/step - loss: 0.2884 - accuracy: 0.9697\n",
            "Epoch 16/30\n",
            "70/70 [==============================] - 1s 15ms/step - loss: 0.2761 - accuracy: 0.9792\n",
            "Epoch 17/30\n",
            "70/70 [==============================] - 1s 10ms/step - loss: 0.2643 - accuracy: 0.9788\n",
            "Epoch 18/30\n",
            "70/70 [==============================] - 1s 10ms/step - loss: 0.2489 - accuracy: 0.9842\n",
            "Epoch 19/30\n",
            "70/70 [==============================] - 1s 10ms/step - loss: 0.2473 - accuracy: 0.9824\n",
            "Epoch 20/30\n",
            "70/70 [==============================] - 1s 10ms/step - loss: 0.2256 - accuracy: 0.9887\n",
            "Epoch 21/30\n",
            "70/70 [==============================] - 1s 12ms/step - loss: 0.2246 - accuracy: 0.9878\n",
            "Epoch 22/30\n",
            "70/70 [==============================] - 1s 11ms/step - loss: 0.2192 - accuracy: 0.9860\n",
            "Epoch 23/30\n",
            "70/70 [==============================] - 1s 10ms/step - loss: 0.2238 - accuracy: 0.9837\n",
            "Epoch 24/30\n",
            "70/70 [==============================] - 1s 9ms/step - loss: 0.2840 - accuracy: 0.9647\n",
            "Epoch 25/30\n",
            "70/70 [==============================] - 1s 10ms/step - loss: 0.2101 - accuracy: 0.9919\n",
            "Epoch 26/30\n",
            "70/70 [==============================] - 1s 10ms/step - loss: 0.1963 - accuracy: 0.9946\n",
            "Epoch 27/30\n",
            "70/70 [==============================] - 1s 10ms/step - loss: 0.2192 - accuracy: 0.9810\n",
            "Epoch 28/30\n",
            "70/70 [==============================] - 1s 10ms/step - loss: 0.2281 - accuracy: 0.9810\n",
            "Epoch 29/30\n",
            "70/70 [==============================] - 1s 10ms/step - loss: 0.2145 - accuracy: 0.9855\n",
            "Epoch 30/30\n",
            "70/70 [==============================] - 1s 10ms/step - loss: 0.1836 - accuracy: 0.9932\n",
            "6/6 [==============================] - 0s 4ms/step\n",
            "Best accuracy is : ------ : 0.7865168539325843\n",
            "(0.0003, 0.0003, 'accuracy', 'sparse_categorical_crossentropy', <class 'keras.src.optimizers.nadam.Nadam'>, 'softmax', 0.3, 0.4, 0.3)\n",
            "Epoch 1/30\n",
            "70/70 [==============================] - 2s 10ms/step - loss: 2.4129 - accuracy: 0.3644\n",
            "Epoch 2/30\n",
            "70/70 [==============================] - 1s 10ms/step - loss: 1.2469 - accuracy: 0.5628\n",
            "Epoch 3/30\n",
            "70/70 [==============================] - 1s 10ms/step - loss: 0.9639 - accuracy: 0.6668\n",
            "Epoch 4/30\n",
            "70/70 [==============================] - 1s 10ms/step - loss: 0.8115 - accuracy: 0.7446\n",
            "Epoch 5/30\n",
            "70/70 [==============================] - 1s 10ms/step - loss: 0.6854 - accuracy: 0.7988\n",
            "Epoch 6/30\n",
            "70/70 [==============================] - 1s 10ms/step - loss: 0.6036 - accuracy: 0.8440\n",
            "Epoch 7/30\n",
            "70/70 [==============================] - 1s 12ms/step - loss: 0.5547 - accuracy: 0.8630\n",
            "Epoch 8/30\n",
            "70/70 [==============================] - 1s 14ms/step - loss: 0.4940 - accuracy: 0.8947\n",
            "Epoch 9/30\n",
            "70/70 [==============================] - 1s 15ms/step - loss: 0.4483 - accuracy: 0.9195\n",
            "Epoch 10/30\n",
            "70/70 [==============================] - 1s 13ms/step - loss: 0.4129 - accuracy: 0.9358\n",
            "Epoch 11/30\n",
            "70/70 [==============================] - 1s 15ms/step - loss: 0.4005 - accuracy: 0.9412\n",
            "Epoch 12/30\n",
            "70/70 [==============================] - 1s 10ms/step - loss: 0.3908 - accuracy: 0.9412\n",
            "Epoch 13/30\n",
            "70/70 [==============================] - 1s 10ms/step - loss: 0.3454 - accuracy: 0.9566\n",
            "Epoch 14/30\n",
            "70/70 [==============================] - 1s 10ms/step - loss: 0.2992 - accuracy: 0.9765\n",
            "Epoch 15/30\n",
            "70/70 [==============================] - 1s 10ms/step - loss: 0.2938 - accuracy: 0.9715\n",
            "Epoch 16/30\n",
            "70/70 [==============================] - 1s 10ms/step - loss: 0.2686 - accuracy: 0.9792\n",
            "Epoch 17/30\n",
            "70/70 [==============================] - 1s 10ms/step - loss: 0.2622 - accuracy: 0.9801\n",
            "Epoch 18/30\n",
            "70/70 [==============================] - 1s 10ms/step - loss: 0.2602 - accuracy: 0.9824\n",
            "Epoch 19/30\n",
            "70/70 [==============================] - 1s 10ms/step - loss: 0.2749 - accuracy: 0.9783\n",
            "Epoch 20/30\n",
            "70/70 [==============================] - 1s 10ms/step - loss: 0.2538 - accuracy: 0.9774\n",
            "Epoch 21/30\n",
            "70/70 [==============================] - 1s 10ms/step - loss: 0.2267 - accuracy: 0.9882\n",
            "Epoch 22/30\n",
            "70/70 [==============================] - 1s 10ms/step - loss: 0.2207 - accuracy: 0.9892\n",
            "Epoch 23/30\n",
            "70/70 [==============================] - 1s 10ms/step - loss: 0.2482 - accuracy: 0.9765\n",
            "Epoch 24/30\n",
            "70/70 [==============================] - 1s 10ms/step - loss: 0.2157 - accuracy: 0.9910\n",
            "Epoch 25/30\n",
            "70/70 [==============================] - 1s 10ms/step - loss: 0.2449 - accuracy: 0.9778\n",
            "Epoch 26/30\n",
            "70/70 [==============================] - 1s 13ms/step - loss: 0.2088 - accuracy: 0.9892\n",
            "Epoch 27/30\n",
            "70/70 [==============================] - 1s 15ms/step - loss: 0.2053 - accuracy: 0.9882\n",
            "Epoch 28/30\n",
            "70/70 [==============================] - 1s 15ms/step - loss: 0.1849 - accuracy: 0.9941\n",
            "Epoch 29/30\n",
            "70/70 [==============================] - 1s 15ms/step - loss: 0.1961 - accuracy: 0.9892\n",
            "Epoch 30/30\n",
            "70/70 [==============================] - 1s 15ms/step - loss: 0.2072 - accuracy: 0.9869\n",
            "6/6 [==============================] - 0s 5ms/step\n",
            "Best Acc score: 0.7865168539325843\n",
            "Best Acc model: (<keras.src.engine.sequential.Sequential object at 0x7cdd65c9b670>, <keras.src.callbacks.EarlyStopping object at 0x7cdd63171930>, 0.0003, 0.0003, 'accuracy', 'sparse_categorical_crossentropy', <class 'keras.src.optimizers.nadam.Nadam'>, 'softmax', 0.3, 0.4, 0.2)\n"
          ]
        }
      ]
    },
    {
      "cell_type": "code",
      "source": [
        "# Import necessary libraries\n",
        "from sklearn.metrics import confusion_matrix, accuracy_score, f1_score, precision_score, recall_score\n",
        "\n",
        "nn_best_model = best_accuracy_model[0]\n",
        "\n",
        "# Make predictions on the test set\n",
        "y_pred = best_accuracy_model[0].predict(x_test).argmax(axis=1)\n",
        "\n",
        "# Calculate and print the metrics\n",
        "nn_accuracy = accuracy_score(y_test, y_pred)\n",
        "f1 = f1_score(y_test, y_pred, average='weighted')\n",
        "precision = precision_score(y_test, y_pred, average='weighted')\n",
        "recall = recall_score(y_test, y_pred, average='weighted')\n",
        "confusion_matrix = confusion_matrix(y_test, y_pred)\n",
        "\n",
        "print(\"Accuracy:\", accuracy)\n",
        "print(\"F1 Score:\", f1)\n",
        "print(\"Precision:\", precision)\n",
        "print(\"Recall:\", recall)\n",
        "print(\"Confusion Matrix:\\n\", confusion_matrix)"
      ],
      "metadata": {
        "id": "xTjva8Ob_fum",
        "colab": {
          "base_uri": "https://localhost:8080/"
        },
        "outputId": "bf0a47df-ea1e-411d-a68c-dda642d98d64"
      },
      "execution_count": 446,
      "outputs": [
        {
          "output_type": "stream",
          "name": "stdout",
          "text": [
            "6/6 [==============================] - 0s 5ms/step\n",
            "Accuracy: 0.7865168539325843\n",
            "F1 Score: 0.7172575012546514\n",
            "Precision: 0.6592237134137883\n",
            "Recall: 0.7865168539325843\n",
            "Confusion Matrix:\n",
            " [[133   3   0   0]\n",
            " [  6   7   0   0]\n",
            " [  2   0   0   0]\n",
            " [ 21   6   0   0]]\n"
          ]
        }
      ]
    },
    {
      "cell_type": "markdown",
      "source": [
        "# Selecting Best Model"
      ],
      "metadata": {
        "id": "0KvXVNqngU6V"
      }
    },
    {
      "cell_type": "code",
      "source": [
        "# prompt: select best model or pipeline based on accuracy, I already have the accuracies for each model , so I want to get each model and accuracy. Compare and select the best. Note some are grids that contain the best model\n",
        "\n",
        "models = [\n",
        "    {\"model\": pca_log_reg_grid_search, \"accuracy\": pca_log_reg_accuracy},\n",
        "    {\"model\": pca_rf_grid_search, \"accuracy\": pca_rf_accuracy},\n",
        "    {\"model\": pca_svc_grid_search, \"accuracy\": pca_svc_accuracy},\n",
        "    {\"model\": nn_best_model, \"accuracy\": nn_accuracy}\n",
        "]\n",
        "\n",
        "best_model = None\n",
        "best_accuracy = 0\n",
        "\n",
        "for model_info in models:\n",
        "    if model_info[\"accuracy\"] > best_accuracy:\n",
        "        best_model = model_info[\"model\"]\n",
        "        best_accuracy = model_info[\"accuracy\"]\n",
        "\n",
        "print(\"Best Model:\", best_model)\n",
        "print(\"Best Accuracy:\", best_accuracy)\n"
      ],
      "metadata": {
        "colab": {
          "base_uri": "https://localhost:8080/"
        },
        "id": "ugC1YNrC4_Fw",
        "outputId": "6bb30a8e-0395-4892-c438-0a678104daa5"
      },
      "execution_count": 447,
      "outputs": [
        {
          "output_type": "stream",
          "name": "stdout",
          "text": [
            "Best Model: GridSearchCV(cv=5,\n",
            "             estimator=Pipeline(steps=[('pca', PCA()),\n",
            "                                       ('svc', SVC(random_state=42))]),\n",
            "             param_grid={'pca__n_components': [300, 500], 'svc__C': [10, 15],\n",
            "                         'svc__degree': [1, 2], 'svc__gamma': ['auto', 'scale'],\n",
            "                         'svc__kernel': ['rbf'], 'svc__max_iter': [500, 700]},\n",
            "             scoring='accuracy', verbose=1)\n",
            "Best Accuracy: 0.7865168539325843\n"
          ]
        }
      ]
    },
    {
      "cell_type": "code",
      "source": [
        "import pickle\n",
        "\n",
        "# Save the best model\n",
        "with open('best_model.pkl', 'wb') as f:\n",
        "    pickle.dump(best_model.best_estimator_, f)\n"
      ],
      "metadata": {
        "id": "eUml4C6hDMqe"
      },
      "execution_count": 451,
      "outputs": []
    }
  ],
  "metadata": {
    "colab": {
      "provenance": [],
      "collapsed_sections": [
        "YnFuGsRv7o3b",
        "gvRhK875ACZb",
        "JJQ0kf4MYXrP"
      ]
    },
    "kernelspec": {
      "display_name": "Python 3 (ipykernel)",
      "language": "python",
      "name": "python3"
    },
    "language_info": {
      "codemirror_mode": {
        "name": "ipython",
        "version": 3
      },
      "file_extension": ".py",
      "mimetype": "text/x-python",
      "name": "python",
      "nbconvert_exporter": "python",
      "pygments_lexer": "ipython3",
      "version": "3.10.5"
    }
  },
  "nbformat": 4,
  "nbformat_minor": 0
}
{
  "nbformat": 4,
  "nbformat_minor": 0,
  "metadata": {
    "colab": {
      "provenance": []
    },
    "kernelspec": {
      "name": "python3",
      "display_name": "Python 3"
    },
    "language_info": {
      "name": "python"
    }
  },
  "cells": [
    {
      "cell_type": "markdown",
      "metadata": {
        "id": "view-in-github"
      },
      "source": [
        "<a href=\"https://colab.research.google.com/github/momox369/Breast-Cancer-Classification-Model/blob/main/breast_cancer_classification_model.ipynb\" target=\"_parent\"><img src=\"https://colab.research.google.com/assets/colab-badge.svg\" alt=\"Open In Colab\"/></a>"
      ]
    },
    {
      "cell_type": "markdown",
      "source": [
        "# **Step 0: Import Libraries and Upload the data file**"
      ],
      "metadata": {
        "id": "XONRSN53hAE3"
      }
    },
    {
      "cell_type": "code",
      "source": [
        "# import libraries\n",
        "import pandas as pd\n",
        "import matplotlib.pyplot as plt"
      ],
      "metadata": {
        "id": "Hf9q98gafa_w"
      },
      "execution_count": 1,
      "outputs": []
    },
    {
      "cell_type": "markdown",
      "source": [
        "# **Step 1: Visualization of the data distribution**\n",
        "\n"
      ],
      "metadata": {
        "id": "6SAkgyn_ghZP"
      }
    },
    {
      "cell_type": "code",
      "source": [
        "#Load the data file\n",
        "from google.colab import files\n",
        "\n",
        "# Upload files\n",
        "uploaded = files.upload()\n",
        "df = pd.read_csv('data.csv', low_memory=False)"
      ],
      "metadata": {
        "colab": {
          "base_uri": "https://localhost:8080/",
          "height": 72
        },
        "id": "HJDfTEMehiw_",
        "outputId": "32b71b56-29dc-4b51-ed89-361a4f10df71"
      },
      "execution_count": 9,
      "outputs": [
        {
          "output_type": "display_data",
          "data": {
            "text/plain": [
              "<IPython.core.display.HTML object>"
            ],
            "text/html": [
              "\n",
              "     <input type=\"file\" id=\"files-f5ed5130-c5ff-463a-b5dc-0fc0563e881a\" name=\"files[]\" multiple disabled\n",
              "        style=\"border:none\" />\n",
              "     <output id=\"result-f5ed5130-c5ff-463a-b5dc-0fc0563e881a\">\n",
              "      Upload widget is only available when the cell has been executed in the\n",
              "      current browser session. Please rerun this cell to enable.\n",
              "      </output>\n",
              "      <script>// Copyright 2017 Google LLC\n",
              "//\n",
              "// Licensed under the Apache License, Version 2.0 (the \"License\");\n",
              "// you may not use this file except in compliance with the License.\n",
              "// You may obtain a copy of the License at\n",
              "//\n",
              "//      http://www.apache.org/licenses/LICENSE-2.0\n",
              "//\n",
              "// Unless required by applicable law or agreed to in writing, software\n",
              "// distributed under the License is distributed on an \"AS IS\" BASIS,\n",
              "// WITHOUT WARRANTIES OR CONDITIONS OF ANY KIND, either express or implied.\n",
              "// See the License for the specific language governing permissions and\n",
              "// limitations under the License.\n",
              "\n",
              "/**\n",
              " * @fileoverview Helpers for google.colab Python module.\n",
              " */\n",
              "(function(scope) {\n",
              "function span(text, styleAttributes = {}) {\n",
              "  const element = document.createElement('span');\n",
              "  element.textContent = text;\n",
              "  for (const key of Object.keys(styleAttributes)) {\n",
              "    element.style[key] = styleAttributes[key];\n",
              "  }\n",
              "  return element;\n",
              "}\n",
              "\n",
              "// Max number of bytes which will be uploaded at a time.\n",
              "const MAX_PAYLOAD_SIZE = 100 * 1024;\n",
              "\n",
              "function _uploadFiles(inputId, outputId) {\n",
              "  const steps = uploadFilesStep(inputId, outputId);\n",
              "  const outputElement = document.getElementById(outputId);\n",
              "  // Cache steps on the outputElement to make it available for the next call\n",
              "  // to uploadFilesContinue from Python.\n",
              "  outputElement.steps = steps;\n",
              "\n",
              "  return _uploadFilesContinue(outputId);\n",
              "}\n",
              "\n",
              "// This is roughly an async generator (not supported in the browser yet),\n",
              "// where there are multiple asynchronous steps and the Python side is going\n",
              "// to poll for completion of each step.\n",
              "// This uses a Promise to block the python side on completion of each step,\n",
              "// then passes the result of the previous step as the input to the next step.\n",
              "function _uploadFilesContinue(outputId) {\n",
              "  const outputElement = document.getElementById(outputId);\n",
              "  const steps = outputElement.steps;\n",
              "\n",
              "  const next = steps.next(outputElement.lastPromiseValue);\n",
              "  return Promise.resolve(next.value.promise).then((value) => {\n",
              "    // Cache the last promise value to make it available to the next\n",
              "    // step of the generator.\n",
              "    outputElement.lastPromiseValue = value;\n",
              "    return next.value.response;\n",
              "  });\n",
              "}\n",
              "\n",
              "/**\n",
              " * Generator function which is called between each async step of the upload\n",
              " * process.\n",
              " * @param {string} inputId Element ID of the input file picker element.\n",
              " * @param {string} outputId Element ID of the output display.\n",
              " * @return {!Iterable<!Object>} Iterable of next steps.\n",
              " */\n",
              "function* uploadFilesStep(inputId, outputId) {\n",
              "  const inputElement = document.getElementById(inputId);\n",
              "  inputElement.disabled = false;\n",
              "\n",
              "  const outputElement = document.getElementById(outputId);\n",
              "  outputElement.innerHTML = '';\n",
              "\n",
              "  const pickedPromise = new Promise((resolve) => {\n",
              "    inputElement.addEventListener('change', (e) => {\n",
              "      resolve(e.target.files);\n",
              "    });\n",
              "  });\n",
              "\n",
              "  const cancel = document.createElement('button');\n",
              "  inputElement.parentElement.appendChild(cancel);\n",
              "  cancel.textContent = 'Cancel upload';\n",
              "  const cancelPromise = new Promise((resolve) => {\n",
              "    cancel.onclick = () => {\n",
              "      resolve(null);\n",
              "    };\n",
              "  });\n",
              "\n",
              "  // Wait for the user to pick the files.\n",
              "  const files = yield {\n",
              "    promise: Promise.race([pickedPromise, cancelPromise]),\n",
              "    response: {\n",
              "      action: 'starting',\n",
              "    }\n",
              "  };\n",
              "\n",
              "  cancel.remove();\n",
              "\n",
              "  // Disable the input element since further picks are not allowed.\n",
              "  inputElement.disabled = true;\n",
              "\n",
              "  if (!files) {\n",
              "    return {\n",
              "      response: {\n",
              "        action: 'complete',\n",
              "      }\n",
              "    };\n",
              "  }\n",
              "\n",
              "  for (const file of files) {\n",
              "    const li = document.createElement('li');\n",
              "    li.append(span(file.name, {fontWeight: 'bold'}));\n",
              "    li.append(span(\n",
              "        `(${file.type || 'n/a'}) - ${file.size} bytes, ` +\n",
              "        `last modified: ${\n",
              "            file.lastModifiedDate ? file.lastModifiedDate.toLocaleDateString() :\n",
              "                                    'n/a'} - `));\n",
              "    const percent = span('0% done');\n",
              "    li.appendChild(percent);\n",
              "\n",
              "    outputElement.appendChild(li);\n",
              "\n",
              "    const fileDataPromise = new Promise((resolve) => {\n",
              "      const reader = new FileReader();\n",
              "      reader.onload = (e) => {\n",
              "        resolve(e.target.result);\n",
              "      };\n",
              "      reader.readAsArrayBuffer(file);\n",
              "    });\n",
              "    // Wait for the data to be ready.\n",
              "    let fileData = yield {\n",
              "      promise: fileDataPromise,\n",
              "      response: {\n",
              "        action: 'continue',\n",
              "      }\n",
              "    };\n",
              "\n",
              "    // Use a chunked sending to avoid message size limits. See b/62115660.\n",
              "    let position = 0;\n",
              "    do {\n",
              "      const length = Math.min(fileData.byteLength - position, MAX_PAYLOAD_SIZE);\n",
              "      const chunk = new Uint8Array(fileData, position, length);\n",
              "      position += length;\n",
              "\n",
              "      const base64 = btoa(String.fromCharCode.apply(null, chunk));\n",
              "      yield {\n",
              "        response: {\n",
              "          action: 'append',\n",
              "          file: file.name,\n",
              "          data: base64,\n",
              "        },\n",
              "      };\n",
              "\n",
              "      let percentDone = fileData.byteLength === 0 ?\n",
              "          100 :\n",
              "          Math.round((position / fileData.byteLength) * 100);\n",
              "      percent.textContent = `${percentDone}% done`;\n",
              "\n",
              "    } while (position < fileData.byteLength);\n",
              "  }\n",
              "\n",
              "  // All done.\n",
              "  yield {\n",
              "    response: {\n",
              "      action: 'complete',\n",
              "    }\n",
              "  };\n",
              "}\n",
              "\n",
              "scope.google = scope.google || {};\n",
              "scope.google.colab = scope.google.colab || {};\n",
              "scope.google.colab._files = {\n",
              "  _uploadFiles,\n",
              "  _uploadFilesContinue,\n",
              "};\n",
              "})(self);\n",
              "</script> "
            ]
          },
          "metadata": {}
        },
        {
          "output_type": "stream",
          "name": "stdout",
          "text": [
            "Saving data.csv to data (1).csv\n"
          ]
        }
      ]
    },
    {
      "cell_type": "code",
      "execution_count": 10,
      "metadata": {
        "colab": {
          "base_uri": "https://localhost:8080/",
          "height": 607
        },
        "id": "4HhtVpotesS7",
        "outputId": "109044d2-df30-4b02-9eec-3ba0709ec26a"
      },
      "outputs": [
        {
          "output_type": "display_data",
          "data": {
            "text/plain": [
              "<Figure size 1000x600 with 1 Axes>"
            ],
            "image/png": "[encoded data removed]"
          },
          "metadata": {}
        }
      ],
      "source": [
        "# Plot the histogram\n",
        "cancer_counts = df['cancer_type'].value_counts()\n",
        "\n",
        "plt.figure(figsize=(10, 6))\n",
        "cancer_counts.plot(kind='bar')\n",
        "plt.title('Occurences of Each Cancer Type in the Dataset')\n",
        "plt.xlabel('Cancer Type')\n",
        "plt.ylabel('Number of Instances')\n",
        "plt.xticks(rotation=45, ha=\"right\")\n",
        "plt.tight_layout()  # Adjust the layout to make room for the label\n",
        "plt.show()"
      ]
    },
    {
      "cell_type": "markdown",
      "source": [
        "Analysis: Data Appears to be imbalenced, so the solution is that we are going to adopt Synthetic Minority Oversampling Technique (SMOTE) to increase the size of the minority classes with respect to the majority class which is Breast Invasive Ductal\n"
      ],
      "metadata": {
        "id": "z2eOp90-YKpc"
      }
    },
    {
      "cell_type": "markdown",
      "source": [
        "#**Step 2: Data Cleaning and Processing**\n",
        "This step includes removing duplicates instances, data transformation and mapping, and other inconsistency.\n",
        "We will not remove missing instances as this will damage the data structure.\n",
        "\n"
      ],
      "metadata": {
        "id": "beVW-N95os5p"
      }
    },
    {
      "cell_type": "code",
      "source": [
        "#Removing duplicates\n",
        "df = df.drop_duplicates()\n",
        "df = df.drop(columns=['patient_id'])"
      ],
      "metadata": {
        "id": "74prskxnlKNS"
      },
      "execution_count": 11,
      "outputs": []
    },
    {
      "cell_type": "code",
      "source": [
        "print(\"before\\n\", df['cancer_type'].value_counts())\n",
        "\n",
        "#Removing duplicates\n",
        "df = df.drop_duplicates()"
      ],
      "metadata": {
        "colab": {
          "base_uri": "https://localhost:8080/"
        },
        "id": "yGwi0zCOlhi3",
        "outputId": "68fa1c78-2017-4f19-891c-f82788aac4cb"
      },
      "execution_count": 12,
      "outputs": [
        {
          "output_type": "stream",
          "name": "stdout",
          "text": [
            "before\n",
            " cancer_type\n",
            "Breast Invasive Ductal Carcinoma             1199\n",
            "Breast Mixed Ductal and Lobular Carcinoma     165\n",
            "Breast Invasive Lobular Carcinoma             114\n",
            "Breast Invasive Mixed Mucinous Carcinoma       18\n",
            "Name: count, dtype: int64\n"
          ]
        }
      ]
    },
    {
      "cell_type": "code",
      "source": [
        "from sklearn.preprocessing import OneHotEncoder\n",
        "from sklearn.preprocessing import LabelEncoder\n",
        "\n",
        "# Convert set to list\n",
        "categorical_columns = [\"cancer_type\", \"cellularity\", \"pam50_+_claudin-low_subtype\", \"er_status_measured_by_ihc\", \"er_status\", \"her2_status_measured_by_snp6\", \"her2_status\", \"inferred_menopausal_state\", \"primary_tumor_laterality\", \"pr_status\", \"3-gene_classifier_subtype\", \"death_from_cancer\", \"pik3ca_mut\", \"tp53_mut\", \"muc16_mut\",\n",
        "                      \"ahnak2_mut\", \"kmt2c_mut\",    \"syne1_mut\",    \"gata3_mut\",    \"map3k1_mut\",    \"ahnak_mut\",    \"dnah11_mut\",    \"cdh1_mut\",    \"dnah2_mut\",    \"kmt2d_mut\",    \"ush2a_mut\",    \"ryr2_mut\",    \"dnah5_mut\",    \"herc2_mut\",    \"pde4dip_mut\",    \"akap9_mut\",    \"tg_mut\",    \"birc6_mut\",    \"utrn_mut\",    \"tbx3_mut\",    \"col6a3_mut\",    \"arid1a_mut\",    \"lama2_mut\",    \"notch1_mut\",\n",
        "                      \"cbfb_mut\",    \"ncor2_mut\",    \"col12a1_mut\",    \"col22a1_mut\",    \"pten_mut\",    \"akt1_mut\",    \"atr_mut\",    \"thada_mut\",    \"ncor1_mut\",    \"stab2_mut\",    \"myh9_mut\",    \"runx1_mut\",    \"nf1_mut\",    \"map2k4_mut\",    \"ros1_mut\",    \"lamb3_mut\",    \"arid1b_mut\",    \"erbb2_mut\",    \"sf3b1_mut\",    \"shank2_mut\",    \"ep300_mut\",    \"ptprd_mut\",    \"usp9x_mut\",\n",
        "                      \"setd2_mut\",    \"setd1a_mut\",    \"thsd7a_mut\",    \"afdn_mut\",    \"erbb3_mut\",    \"rb1_mut\",    \"myo1a_mut\",    \"alk_mut\",    \"fanca_mut\",    \"adgra2_mut\",    \"ubr5_mut\",    \"pik3r1_mut\",    \"myo3a_mut\",    \"asxl2_mut\",    \"apc_mut\",    \"ctcf_mut\",    \"asxl1_mut\",    \"fancd2_mut\",    \"taf1_mut\",    \"kdm6a_mut\",    \"ctnna3_mut\",    \"brca1_mut\",    \"ptprm_mut\",\n",
        "                      \"foxo3_mut\",    \"usp28_mut\",    \"gldc_mut\",    \"brca2_mut\",    \"cacna2d3_mut\",    \"arid2_mut\",    \"aff2_mut\",    \"lifr_mut\",    \"sbno1_mut\",    \"kdm3a_mut\",    \"ncoa3_mut\",    \"bap1_mut\",    \"l1cam_mut\",    \"pbrm1_mut\",    \"chd1_mut\",    \"jak1_mut\",    \"setdb1_mut\",    \"fam20c_mut\",    \"arid5b_mut\",    \"egfr_mut\",    \"map3k10_mut\",    \"smarcc2_mut\",    \"erbb4_mut\",\n",
        "                      \"npnt_mut\",    \"nek1_mut\",    \"agmo_mut\",    \"zfp36l1_mut\",    \"smad4_mut\",    \"sik1_mut\",    \"casp8_mut\",    \"prkcq_mut\",    \"smarcc1_mut\",    \"palld_mut\",    \"dcaf4l2_mut\",    \"bcas3_mut\",    \"cdkn1b_mut\",    \"gps2_mut\",    \"men1_mut\",    \"stk11_mut\",    \"sik2_mut\",    \"ptpn22_mut\",    \"brip1_mut\",    \"flt3_mut\",    \"nrg3_mut\",    \"fbxw7_mut\",    \"ttyh1_mut\",\n",
        "                      \"taf4b_mut\",    \"or6a2_mut\",    \"map3k13_mut\",    \"hdac9_mut\",    \"prkacg_mut\",    \"rpgr_mut\",    \"large1_mut\",    \"foxp1_mut\",    \"clk3_mut\",    \"prkcz_mut\",    \"lipi_mut\",    \"ppp2r2a_mut\",    \"prkce_mut\",    \"gh1_mut\",    \"gpr32_mut\",    \"kras_mut\",    \"nf2_mut\",    \"chek2_mut\",    \"ldlrap1_mut\",    \"clrn2_mut\",    \"acvrl1_mut\",    \"agtr2_mut\",    \"cdkn2a_mut\",\n",
        "                      \"ctnna1_mut\",    \"magea8_mut\",    \"prr16_mut\",    \"dtwd2_mut\",    \"akt2_mut\",    \"braf_mut\",    \"foxo1_mut\",    \"nt5e_mut\",    \"ccnd3_mut\",    \"nr3c1_mut\",    \"prkg1_mut\",    \"tbl1xr1_mut\",    \"frmd3_mut\",    \"smad2_mut\",    \"sgcd_mut\",    \"spaca1_mut\",    \"rasgef1b_mut\",    \"hist1h2bc_mut\",    \"nr2f1_mut\",    \"klrg1_mut\",    \"mbl2_mut\",    \"mtap_mut\",    \"ppp2cb_mut\",\n",
        "                      \"smarcd1_mut\",    \"nras_mut\",    \"ndfip1_mut\",    \"hras_mut\",    \"prps2_mut\",    \"smarcb1_mut\", \"stmn2_mut\",    \"siah1_mut\"]\n",
        "\n",
        "\n",
        "# Initialize LabelEncoder\n",
        "label_encoder = LabelEncoder()\n",
        "\n",
        "# Apply label encoding to each categorical column\n",
        "for col in categorical_columns:\n",
        "    df[col] = label_encoder.fit_transform(df[col])\n",
        "\n"
      ],
      "metadata": {
        "id": "0F_lGusbvqLg"
      },
      "execution_count": 13,
      "outputs": []
    },
    {
      "cell_type": "code",
      "source": [
        "#Separating the data\n",
        "features = df.drop(columns=['cancer_type'])\n",
        "labels = df['cancer_type']\n",
        "print(df)"
      ],
      "metadata": {
        "colab": {
          "base_uri": "https://localhost:8080/"
        },
        "id": "CkYR3XTlr831",
        "outputId": "e7dd02d4-5929-48f9-c333-db870aaba345"
      },
      "execution_count": 17,
      "outputs": [
        {
          "output_type": "stream",
          "name": "stdout",
          "text": [
            "      cancer_type  age_at_diagnosis  cellularity  chemotherapy  \\\n",
            "0               0             54.29            0             1   \n",
            "1               0             43.45            2             0   \n",
            "2               0             74.11            0             0   \n",
            "3               0             51.87            0             0   \n",
            "4               0             87.18            2             0   \n",
            "...           ...               ...          ...           ...   \n",
            "1491            0             50.08            2             0   \n",
            "1492            0             60.99            0             0   \n",
            "1493            0             83.39            2             0   \n",
            "1494            0             60.63            0             0   \n",
            "1495            0             68.74            1             1   \n",
            "\n",
            "      pam50_+_claudin-low_subtype  cohort  er_status_measured_by_ihc  \\\n",
            "0                               3       1                          1   \n",
            "1                               2       4                          1   \n",
            "2                               3       3                          1   \n",
            "3                               2       3                          1   \n",
            "4                               3       1                          1   \n",
            "...                           ...     ...                        ...   \n",
            "1491                            6       3                          1   \n",
            "1492                            1       3                          1   \n",
            "1493                            0       4                          1   \n",
            "1494                            3       4                          2   \n",
            "1495                            6       1                          1   \n",
            "\n",
            "      er_status  neoplasm_histologic_grade  her2_status_measured_by_snp6  ...  \\\n",
            "0             1                        3.0                             2  ...   \n",
            "1             1                        1.0                             1  ...   \n",
            "2             1                        3.0                             2  ...   \n",
            "3             1                        2.0                             2  ...   \n",
            "4             1                        3.0                             0  ...   \n",
            "...         ...                        ...                           ...  ...   \n",
            "1491          1                        NaN                             2  ...   \n",
            "1492          1                        NaN                             2  ...   \n",
            "1493          1                        3.0                             2  ...   \n",
            "1494          1                        3.0                             2  ...   \n",
            "1495          1                        3.0                             2  ...   \n",
            "\n",
            "      mtap_mut  ppp2cb_mut  smarcd1_mut  nras_mut  ndfip1_mut  hras_mut  \\\n",
            "0            0           0            0         0           0         0   \n",
            "1            0           0            0         0           0         0   \n",
            "2            0           0            0         0           0         0   \n",
            "3            0           0            0         0           0         0   \n",
            "4            0           0            0         0           0         0   \n",
            "...        ...         ...          ...       ...         ...       ...   \n",
            "1491         0           0            0         0           0         0   \n",
            "1492         0           0            0         0           0         0   \n",
            "1493         0           0            0         0           0         0   \n",
            "1494         0           0            0         0           0         0   \n",
            "1495         0           0            0         0           0         0   \n",
            "\n",
            "      prps2_mut  smarcb1_mut  stmn2_mut  siah1_mut  \n",
            "0             0            0          0          0  \n",
            "1             0            0          0          0  \n",
            "2             0            0          0          0  \n",
            "3             0            0          0          0  \n",
            "4             0            0          0          0  \n",
            "...         ...          ...        ...        ...  \n",
            "1491          0            0          0          0  \n",
            "1492          0            0          0          0  \n",
            "1493          0            0          0          0  \n",
            "1494          0            0          0          0  \n",
            "1495          0            0          0          0  \n",
            "\n",
            "[1496 rows x 687 columns]\n"
          ]
        }
      ]
    },
    {
      "cell_type": "markdown",
      "source": [
        "# **Step 3: Re-sampling the data using SMOTE**"
      ],
      "metadata": {
        "id": "okj4NRdGiwJk"
      }
    },
    {
      "cell_type": "code",
      "source": [
        "from sklearn.datasets import make_classification\n",
        "import seaborn as sns\n",
        "import matplotlib.pyplot as plt\n",
        "import numpy as np"
      ],
      "metadata": {
        "id": "KeNoGINUihON"
      },
      "execution_count": null,
      "outputs": []
    },
    {
      "cell_type": "code",
      "source": [
        "from imblearn.over_sampling import SMOTE\n",
        "\n",
        "new_features, new_labels = SMOTE(random_state=42).fit_resample(features, labels)"
      ],
      "metadata": {
        "id": "XlVXcTdTkNZe"
      },
      "execution_count": null,
      "outputs": []
    },
    {
      "cell_type": "code",
      "source": [
        "#ploting the new re-sampled data\n",
        "# Plot the histogram\n",
        "cancer_counts = new_labels.value_counts()\n",
        "\n",
        "plt.figure(figsize=(10, 6))\n",
        "cancer_counts.plot(kind='bar')\n",
        "plt.title('Occurences of Each Cancer Type in the Dataset')\n",
        "plt.xlabel('Cancer Type')\n",
        "plt.ylabel('Number of Instances')\n",
        "plt.xticks(rotation=45, ha=\"right\")\n",
        "plt.tight_layout()  # Adjust the layout to make room for the label\n",
        "plt.show()"
      ],
      "metadata": {
        "id": "DASP_RuEnAIj"
      },
      "execution_count": null,
      "outputs": []
    }
  ]
}